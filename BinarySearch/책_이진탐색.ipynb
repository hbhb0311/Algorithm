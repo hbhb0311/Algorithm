{
  "nbformat": 4,
  "nbformat_minor": 0,
  "metadata": {
    "colab": {
      "name": "책_이진탐색.ipynb",
      "provenance": [],
      "collapsed_sections": [],
      "authorship_tag": "ABX9TyOufHZDh2bVfBgB1zqSC+mr",
      "include_colab_link": true
    },
    "kernelspec": {
      "name": "python3",
      "display_name": "Python 3"
    },
    "language_info": {
      "name": "python"
    }
  },
  "cells": [
    {
      "cell_type": "markdown",
      "metadata": {
        "id": "view-in-github",
        "colab_type": "text"
      },
      "source": [
        "<a href=\"https://colab.research.google.com/github/hbhb0311/Algorithm/blob/main/%EC%9D%B4%EC%A7%84%20%ED%83%90%EC%83%89/%EC%B1%85_%EC%9D%B4%EC%A7%84%ED%83%90%EC%83%89.ipynb\" target=\"_parent\"><img src=\"https://colab.research.google.com/assets/colab-badge.svg\" alt=\"Open In Colab\"/></a>"
      ]
    },
    {
      "cell_type": "markdown",
      "metadata": {
        "id": "VCQo_LdHxV3E"
      },
      "source": [
        "# 1. 순차 탐색"
      ]
    },
    {
      "cell_type": "code",
      "metadata": {
        "colab": {
          "base_uri": "https://localhost:8080/"
        },
        "id": "Xg30uuvqvt4y",
        "outputId": "79996bf0-afa3-4a70-cbab-aa934b557be8"
      },
      "source": [
        "def sequential_search(n, target, array):\n",
        "    # 각 원소를 하나씩 확인하며\n",
        "    for i in range(n):\n",
        "        # 현재 원소가 찾고자 하는 원소와 동일한 경우\n",
        "        if array[i] == target:\n",
        "            return i + 1\n",
        "    \n",
        "print('생성할 원소 개수를 입력한 다음 한 칸 띄고 찾을 문자열을 입력하세요.')\n",
        "input_data = input().split()\n",
        "n = int(input_data[0]) # 원소의 개수\n",
        "target = input_data[1] # 찾고자 하는 문자열\n",
        "\n",
        "print('앞서 적은 원소 개수만큼 문자열을 입력하세요. 구분은 띄어쓰기 한 칸으로 합니다.')\n",
        "array = input().split()\n",
        "\n",
        "# 순차 탐색 수행 결과 출력\n",
        "print(sequential_search(n, target, array))"
      ],
      "execution_count": 2,
      "outputs": [
        {
          "output_type": "stream",
          "text": [
            "생성할 원소 개수를 입력한 다음 한 칸 띄고 찾을 문자열을 입력하세요.\n",
            "5 hbhb\n",
            "앞서 적은 원소 개수만큼 문자열을 입력하세요. 구분은 띄어쓰기 한 칸으로 합니다.\n",
            "slskdjd wiwiwi qoqoqo dkdk hbhb\n",
            "5\n"
          ],
          "name": "stdout"
        }
      ]
    },
    {
      "cell_type": "markdown",
      "metadata": {
        "id": "UG7sO4fuyfNm"
      },
      "source": [
        "# 2. 이진 탐색"
      ]
    },
    {
      "cell_type": "markdown",
      "metadata": {
        "id": "3Iij-Pyxyket"
      },
      "source": [
        "## 2.1 재귀 함수로 구현한 이진 탐색"
      ]
    },
    {
      "cell_type": "code",
      "metadata": {
        "colab": {
          "base_uri": "https://localhost:8080/"
        },
        "id": "4QTurpLfyJLE",
        "outputId": "b1e7a982-115d-4df3-b4d0-686fcf8a326b"
      },
      "source": [
        "def binary_search(array, target, start, end):\n",
        "    if start > end:\n",
        "        return None\n",
        "    \n",
        "    mid = (start + end) // 2\n",
        "    \n",
        "    if array[mid] == target:\n",
        "        return mid\n",
        "\n",
        "    # 중간점의 값보다 찾고자 하는 값이 작은 경우 왼쪽 확인\n",
        "    elif array[mid] > target:\n",
        "        return binary_search(array, target, start, mid - 1)\n",
        "\n",
        "    # 중간점의 값보다 찾고자 하는 값이 큰 경우 오른쪽 확인\n",
        "    else:\n",
        "        return binary_search(array, target, mid + 1, end)\n",
        "\n",
        "# n(원소의 개수)과 target(찾고자 하는 문자열)을 입력 받기\n",
        "n, target = list(map(int, input().split()))\n",
        "\n",
        "# 전체 원소 입력 받기\n",
        "array = list(map(int, input().split()))\n",
        "\n",
        "# 이진 탐색 수행 결과 출력\n",
        "result = binary_search(array, target, 0, n - 1)\n",
        "if result == None:\n",
        "    print('원소가 존재하지 않습니다.')\n",
        "else:\n",
        "    print(result + 1)"
      ],
      "execution_count": 3,
      "outputs": [
        {
          "output_type": "stream",
          "text": [
            "10 7\n",
            "1 3 5 7 9 11 13 15 17 19\n",
            "4\n"
          ],
          "name": "stdout"
        }
      ]
    },
    {
      "cell_type": "markdown",
      "metadata": {
        "id": "GT7yg20qz9IC"
      },
      "source": [
        "## 2.2 반복문으로 구현한 이진 탐색"
      ]
    },
    {
      "cell_type": "code",
      "metadata": {
        "colab": {
          "base_uri": "https://localhost:8080/"
        },
        "id": "I0X4e5_Wz3LK",
        "outputId": "3b0b52b5-bbe7-4e3f-bc7b-4a183f8bce93"
      },
      "source": [
        "def binary_search(array, target, start, end):\n",
        "    while start <= end:\n",
        "        mid = (start + end) // 2\n",
        "\n",
        "        if array[mid] == target:\n",
        "            return mid\n",
        "        elif array[mid] > target:\n",
        "            end = mid - 1\n",
        "        else:\n",
        "            start = mid + 1\n",
        "    \n",
        "    return None\n",
        "\n",
        "# n(원소의 개수)과 target(찾고자 하는 문자열)을 입력 받기\n",
        "n, target = list(map(int, input().split()))\n",
        "\n",
        "# 전체 원소 입력 받기\n",
        "array = list(map(int, input().split()))\n",
        "\n",
        "# 이진 탐색 수행 결과 출력\n",
        "result = binary_search(array, target, 0, n - 1)\n",
        "if result == None:\n",
        "    print('원소가 존재하지 않습니다.')\n",
        "else:\n",
        "    print(result + 1)"
      ],
      "execution_count": 4,
      "outputs": [
        {
          "output_type": "stream",
          "text": [
            "10 7\n",
            "1 3 5 6 9 11 13 15 17 19\n",
            "원소가 존재하지 않습니다.\n"
          ],
          "name": "stdout"
        }
      ]
    },
    {
      "cell_type": "markdown",
      "metadata": {
        "id": "9_98kgro3eBu"
      },
      "source": [
        "## 빠르게 입력 받기"
      ]
    },
    {
      "cell_type": "code",
      "metadata": {
        "colab": {
          "base_uri": "https://localhost:8080/"
        },
        "id": "ZHhVfG8K0oYF",
        "outputId": "add0ce3c-50c2-4217-e1ec-a61aa0a5fcec"
      },
      "source": [
        "import sys\n",
        "\n",
        "input_data = sys.stdin.readline().rstrip()\n",
        "\n",
        "print(input_data)"
      ],
      "execution_count": 5,
      "outputs": [
        {
          "output_type": "stream",
          "text": [
            "\n"
          ],
          "name": "stdout"
        }
      ]
    },
    {
      "cell_type": "markdown",
      "metadata": {
        "id": "Eb7jI2CE3u6M"
      },
      "source": [
        "# 실전 문제"
      ]
    },
    {
      "cell_type": "markdown",
      "metadata": {
        "id": "Y9eFbFAu3zJR"
      },
      "source": [
        "## 1. 부품 찾기"
      ]
    },
    {
      "cell_type": "code",
      "metadata": {
        "colab": {
          "base_uri": "https://localhost:8080/"
        },
        "id": "kpd7hKMC3lJg",
        "outputId": "ff6c1e07-60e8-44b2-87c3-001cec50d3e2"
      },
      "source": [
        "# 내가 푼 방식\n",
        "\n",
        "def binary(array, target, start, end):\n",
        "    while start <= end:\n",
        "        mid = (start + end) // 2\n",
        "\n",
        "        if array[mid] == target:\n",
        "            return 'yes'\n",
        "        elif array[mid] > target:\n",
        "            end = mid - 1\n",
        "        else:\n",
        "            start = mid + 1\n",
        "    return 'no'\n",
        "\n",
        "n = int(input())\n",
        "array = list(map(int, input().split()))\n",
        "\n",
        "m = int(input())\n",
        "mlist = list(map(int, input().split()))\n",
        "\n",
        "array = sorted(array)\n",
        "for i in range(m):\n",
        "    print(binary(array, mlist[i], 0, n - 1), end = ' ')"
      ],
      "execution_count": 9,
      "outputs": [
        {
          "output_type": "stream",
          "text": [
            "5\n",
            "8 3 7 9 2\n",
            "3\n",
            "5 7 9\n",
            "no yes yes "
          ],
          "name": "stdout"
        }
      ]
    },
    {
      "cell_type": "code",
      "metadata": {
        "colab": {
          "base_uri": "https://localhost:8080/"
        },
        "id": "05Qv4zrG5eyv",
        "outputId": "fc98bef1-6c2e-40f4-dd24-a6c9dd59df97"
      },
      "source": [
        "# 답안 예시(이진 탐색)\n",
        "\n",
        "def binary_search(array, target, start, end):\n",
        "    while start <= end:\n",
        "        mid = (start + end) // 2\n",
        "\n",
        "        if array[mid] == target:\n",
        "            return mid\n",
        "        elif array[mid] > target:\n",
        "            end = mid - 1\n",
        "        else:\n",
        "            start = mid + 1\n",
        "    return None\n",
        "\n",
        "n = int(input())\n",
        "array = list(map(int, input().split()))\n",
        "array.sort()\n",
        "\n",
        "m = int(input())\n",
        "x = list(map(int, input().split()))\n",
        "\n",
        "for i in x:\n",
        "    result = binary_search(array, i, 0, n - 1)\n",
        "    \n",
        "    if result != None:\n",
        "        print('yes', end = ' ')\n",
        "    else:\n",
        "        print('no', end = ' ')"
      ],
      "execution_count": 10,
      "outputs": [
        {
          "output_type": "stream",
          "text": [
            "5\n",
            "8 3 7 9 2\n",
            "3\n",
            "5 7 9\n",
            "no yes yes "
          ],
          "name": "stdout"
        }
      ]
    },
    {
      "cell_type": "code",
      "metadata": {
        "colab": {
          "base_uri": "https://localhost:8080/"
        },
        "id": "K5kYObb771ch",
        "outputId": "eded383e-48e9-4e6d-97ee-aea2173ba79b"
      },
      "source": [
        "# 답안 예시(계수 정렬)\n",
        "\n",
        "n = int(input())\n",
        "array = [0] * 1000001\n",
        "\n",
        "for i in input().split():\n",
        "    array[int(i)] = 1\n",
        "\n",
        "m = int(input())\n",
        "x = list(map(int, input().split()))\n",
        "\n",
        "for i in x:\n",
        "    if array[i] == 1:\n",
        "        print('yes', end = ' ')\n",
        "    else:\n",
        "        print('no', end = ' ')"
      ],
      "execution_count": 11,
      "outputs": [
        {
          "output_type": "stream",
          "text": [
            "5\n",
            "8 3 7 9 2\n",
            "3\n",
            "5 7 9\n",
            "no yes yes "
          ],
          "name": "stdout"
        }
      ]
    },
    {
      "cell_type": "code",
      "metadata": {
        "colab": {
          "base_uri": "https://localhost:8080/"
        },
        "id": "c8mS-SiE8UmE",
        "outputId": "8ef075db-d264-442f-9f51-5073886a8744"
      },
      "source": [
        "# 답안 예시(집합 자료형)\n",
        "\n",
        "n = int(input())\n",
        "array = set(map(int, input().split()))\n",
        "\n",
        "m = int(input())\n",
        "x = list(map(int, input().split()))\n",
        "\n",
        "for i in x:\n",
        "    if i in array:\n",
        "        print('yes', end = ' ')\n",
        "    else:\n",
        "        print('no', end = ' ')"
      ],
      "execution_count": 12,
      "outputs": [
        {
          "output_type": "stream",
          "text": [
            "5\n",
            "8 3 7 9 2\n",
            "3\n",
            "5 7 9\n",
            "no yes yes "
          ],
          "name": "stdout"
        }
      ]
    },
    {
      "cell_type": "markdown",
      "metadata": {
        "id": "mdkIerXw84nj"
      },
      "source": [
        "## 2. 떡볶이 떡 만들기"
      ]
    },
    {
      "cell_type": "code",
      "metadata": {
        "colab": {
          "base_uri": "https://localhost:8080/"
        },
        "id": "X_Fky89b8uVi",
        "outputId": "5ffae129-ad70-4740-9a9c-830b08e4b525"
      },
      "source": [
        "# 내가 푼 문제\n",
        "\n",
        "def binary(array, target, start, end):\n",
        "    result = 0\n",
        "    while start <= end:\n",
        "        total = 0\n",
        "        mid = (start + end) // 2\n",
        "\n",
        "        for i in array:\n",
        "            if (i - mid) > 0:\n",
        "                total += (i - mid)\n",
        "\n",
        "        if total >= target:\n",
        "            result = mid\n",
        "            start = mid + 1\n",
        "        else:\n",
        "            end = mid - 1\n",
        "    return result\n",
        "\n",
        "n, m = map(int, input().split())\n",
        "hlist = list(map(int, input().split()))\n",
        "hlist.sort()\n",
        "\n",
        "print(binary(hlist, m, 0, hlist[-1]))"
      ],
      "execution_count": 15,
      "outputs": [
        {
          "output_type": "stream",
          "text": [
            "4 6\n",
            "19 15 10 17\n",
            "15\n"
          ],
          "name": "stdout"
        }
      ]
    },
    {
      "cell_type": "code",
      "metadata": {
        "colab": {
          "base_uri": "https://localhost:8080/"
        },
        "id": "nMfxl0GKAIhx",
        "outputId": "6a5fdb03-4632-4e90-8523-4fad5fa3cb70"
      },
      "source": [
        "# 답안 예시\n",
        "\n",
        "n, m = list(map(int, input().split(' ')))\n",
        "array = list(map(int, input().split()))\n",
        "\n",
        "start = 0\n",
        "end = max(array)\n",
        "\n",
        "result = 0\n",
        "while start <= end:\n",
        "    total = 0\n",
        "    mid = (start + end) // 2\n",
        "\n",
        "    for x in array:\n",
        "        if x > mid :\n",
        "            total += x - mid\n",
        "\n",
        "    if total < m:\n",
        "        end = mid - 1\n",
        "    else:\n",
        "        result = mid\n",
        "        start = mid + 1\n",
        "\n",
        "print(result)"
      ],
      "execution_count": 16,
      "outputs": [
        {
          "output_type": "stream",
          "text": [
            "4 6\n",
            "19 15 10 17\n",
            "15\n"
          ],
          "name": "stdout"
        }
      ]
    }
  ]
}