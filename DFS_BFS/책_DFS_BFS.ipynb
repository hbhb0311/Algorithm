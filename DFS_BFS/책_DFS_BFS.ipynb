{
  "nbformat": 4,
  "nbformat_minor": 0,
  "metadata": {
    "colab": {
      "name": "DFS/BFS.ipynb",
      "provenance": [],
      "collapsed_sections": [],
      "authorship_tag": "ABX9TyOaa7X9UMZ9LrrBj7Gkh7lN",
      "include_colab_link": true
    },
    "kernelspec": {
      "name": "python3",
      "display_name": "Python 3"
    },
    "language_info": {
      "name": "python"
    }
  },
  "cells": [
    {
      "cell_type": "markdown",
      "metadata": {
        "id": "view-in-github",
        "colab_type": "text"
      },
      "source": [
        "<a href=\"https://colab.research.google.com/github/hbhb0311/Algorithm/blob/main/DFS_BFS.ipynb\" target=\"_parent\"><img src=\"https://colab.research.google.com/assets/colab-badge.svg\" alt=\"Open In Colab\"/></a>"
      ]
    },
    {
      "cell_type": "markdown",
      "metadata": {
        "id": "a7AqtmHM2qua"
      },
      "source": [
        "# 1. 기본"
      ]
    },
    {
      "cell_type": "markdown",
      "metadata": {
        "id": "ovgwhcxB2YaK"
      },
      "source": [
        "## 1. DFS"
      ]
    },
    {
      "cell_type": "code",
      "metadata": {
        "id": "YAO3kqy2WjdE",
        "colab": {
          "base_uri": "https://localhost:8080/"
        },
        "outputId": "66069ad0-8a4d-4ae2-aba9-80fefb7f96a7"
      },
      "source": [
        "def dfs(v):\n",
        "    visited[v] = True\n",
        "    print(v, end = ' ')\n",
        "    for i in graph[v]:\n",
        "        if not visited[i]:\n",
        "            dfs(i)\n",
        "\n",
        "graph = [\n",
        "         [],\n",
        "         [2, 3, 8],\n",
        "         [1, 7],\n",
        "         [1, 4, 5],\n",
        "         [3, 5],\n",
        "         [3, 4],\n",
        "         [7],\n",
        "         [2, 6, 8],\n",
        "         [1, 7]\n",
        "]\n",
        "\n",
        "visited = [False] * 9\n",
        "\n",
        "dfs(1)"
      ],
      "execution_count": null,
      "outputs": [
        {
          "output_type": "stream",
          "text": [
            "1 2 7 6 8 3 4 5 "
          ],
          "name": "stdout"
        }
      ]
    },
    {
      "cell_type": "code",
      "metadata": {
        "colab": {
          "base_uri": "https://localhost:8080/"
        },
        "id": "Lwxkmxfm-OIY",
        "outputId": "5eedbbb6-5a14-4fc8-b556-7e13ca424b43"
      },
      "source": [
        "def dfs(idx):\n",
        "\n",
        "    for i in graph[idx]:\n",
        "        if i not in visited:\n",
        "            visited.append(i)\n",
        "            dfs(i)\n",
        "\n",
        "graph = [\n",
        "         [],\n",
        "         [2, 3, 8],\n",
        "         [1, 7],\n",
        "         [1, 4, 5],\n",
        "         [3, 5],\n",
        "         [3, 4],\n",
        "         [7],\n",
        "         [2, 6, 8],\n",
        "         [1, 7]\n",
        "]\n",
        "\n",
        "\n",
        "visited = [1]\n",
        "dfs(1)\n",
        "for i in range(len(visited)):\n",
        "    print(visited[i], end = ' ')"
      ],
      "execution_count": null,
      "outputs": [
        {
          "output_type": "stream",
          "text": [
            "1 2 7 6 8 3 4 5 "
          ],
          "name": "stdout"
        }
      ]
    },
    {
      "cell_type": "markdown",
      "metadata": {
        "id": "DP7IuiGS2nGI"
      },
      "source": [
        "## 2. BFS"
      ]
    },
    {
      "cell_type": "code",
      "metadata": {
        "colab": {
          "base_uri": "https://localhost:8080/"
        },
        "id": "tmAdZ0oG2cTf",
        "outputId": "b7fbc704-f3de-45cb-cc0d-836065bffc0b"
      },
      "source": [
        "from collections import deque\n",
        "\n",
        "def bfs(start):\n",
        "    queue = deque([start])\n",
        "    visited[start] = True\n",
        "    while queue:\n",
        "        v = queue.popleft()\n",
        "        print(v, end = ' ')\n",
        "        for i in graph[v]:\n",
        "            if not visited[i]:\n",
        "                queue.append(i)\n",
        "                visited[i] = True\n",
        "\n",
        "graph = [\n",
        "         [],\n",
        "         [2, 3, 8],\n",
        "         [1, 7],\n",
        "         [1, 4, 5],\n",
        "         [3, 5],\n",
        "         [3, 4],\n",
        "         [7],\n",
        "         [2, 6, 8],\n",
        "         [1, 7]\n",
        "]\n",
        "\n",
        "visited = [False] * 9\n",
        "bfs(1)"
      ],
      "execution_count": null,
      "outputs": [
        {
          "output_type": "stream",
          "text": [
            "1 2 3 8 7 4 5 6 "
          ],
          "name": "stdout"
        }
      ]
    },
    {
      "cell_type": "code",
      "metadata": {
        "colab": {
          "base_uri": "https://localhost:8080/"
        },
        "id": "1cQIEPdixVPQ",
        "outputId": "fffdd9f3-4d39-4775-a5ed-be59c57708d1"
      },
      "source": [
        "from collections import deque\n",
        "def bfs(start):\n",
        "    visited.append(start)\n",
        "    queue = deque([start])\n",
        "\n",
        "    while queue:\n",
        "        v = queue.popleft()\n",
        "\n",
        "        for i in graph[v]:\n",
        "            if i not in visited:\n",
        "                queue.append(i)\n",
        "                visited.append(i)\n",
        "\n",
        "\n",
        "graph = [\n",
        "         [],\n",
        "         [2, 3, 8],\n",
        "         [1, 7],\n",
        "         [1, 4, 5],\n",
        "         [3, 5],\n",
        "         [3, 4],\n",
        "         [7],\n",
        "         [2, 6, 8],\n",
        "         [1, 7]\n",
        "]\n",
        "\n",
        "visited = []\n",
        "bfs(1)\n",
        "\n",
        "for i in range(len(visited)):\n",
        "    print(visited[i], end = ' ')"
      ],
      "execution_count": null,
      "outputs": [
        {
          "output_type": "stream",
          "text": [
            "1 2 3 8 7 4 5 6 "
          ],
          "name": "stdout"
        }
      ]
    },
    {
      "cell_type": "markdown",
      "metadata": {
        "id": "Q-ZvBVMq24-8"
      },
      "source": [
        "# 2. 실전 문제"
      ]
    },
    {
      "cell_type": "markdown",
      "metadata": {
        "id": "Ae2jGjM127Wu"
      },
      "source": [
        "## 1. 음료수 얼려 먹기"
      ]
    },
    {
      "cell_type": "code",
      "metadata": {
        "colab": {
          "base_uri": "https://localhost:8080/"
        },
        "id": "rV4oamQ2G_if",
        "outputId": "f187fbab-e944-40cc-81b3-6bd1db8d2ce6"
      },
      "source": [
        "n, m = map(int, input().split())\n",
        "\n",
        "graph = []\n",
        "for i in range(n):\n",
        "    graph.append(list(map(int, input())))\n",
        "\n",
        "def dfs(x, y):\n",
        "    if x <= -1 or x >= n or y <= -1 or y >= m:\n",
        "        return False\n",
        "    \n",
        "    if graph[x][y] == 0:\n",
        "        graph[x][y] = 1\n",
        "        dfs(x - 1, y)\n",
        "        dfs(x + 1, y)\n",
        "        dfs(x, y - 1)\n",
        "        dfs(x, y + 1)\n",
        "        return True\n",
        "    return False\n",
        "\n",
        "result = 0\n",
        "for i in range(n):\n",
        "    for j in range(m):\n",
        "        if dfs(i, j) == True:\n",
        "            result += 1\n",
        "\n",
        "print(result)"
      ],
      "execution_count": 22,
      "outputs": [
        {
          "output_type": "stream",
          "text": [
            "4 5\n",
            "00110\n",
            "00011\n",
            "11111\n",
            "00000\n",
            "3\n"
          ],
          "name": "stdout"
        }
      ]
    }
  ]
}