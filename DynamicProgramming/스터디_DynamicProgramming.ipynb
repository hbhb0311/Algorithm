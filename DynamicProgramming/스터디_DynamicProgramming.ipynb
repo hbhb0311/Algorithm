{
 "cells": [
  {
   "cell_type": "markdown",
   "metadata": {},
   "source": [
    "# 1. 백준 1149"
   ]
  },
  {
   "cell_type": "code",
   "execution_count": 24,
   "metadata": {},
   "outputs": [
    {
     "name": "stdin",
     "output_type": "stream",
     "text": [
      " 3\n",
      " 50 89 77\n",
      " 64 89 5\n",
      " 10 65 79\n"
     ]
    },
    {
     "name": "stdout",
     "output_type": "stream",
     "text": [
      "65\n"
     ]
    }
   ],
   "source": [
    "# 혼자 풀어오기 -> 인덱스를 기준으로 가져오니 에러발생\n",
    "import copy\n",
    "\n",
    "n = int(input())\n",
    "house = []\n",
    "\n",
    "for i in range(n):\n",
    "    house.append(list(map(int, input().split())))\n",
    "\n",
    "cost = []\n",
    "for i in range(len(house[0])):\n",
    "    house_c = copy.deepcopy(house)\n",
    "    cost.append(house_c[0][i])\n",
    "    idx = i\n",
    "    for j in range(1, len(house)):\n",
    "        house_c[j][idx] = 1001\n",
    "        idx = house_c[j].index(min(house_c[j]))\n",
    "        cost[i] += min(house_c[j])\n",
    "\n",
    "print(min(cost))"
   ]
  },
  {
   "cell_type": "code",
   "execution_count": 33,
   "metadata": {},
   "outputs": [
    {
     "name": "stdin",
     "output_type": "stream",
     "text": [
      " 3\n",
      " 26 40 83\n",
      " 49 60 57\n",
      " 13 89 99\n"
     ]
    },
    {
     "name": "stdout",
     "output_type": "stream",
     "text": [
      "96\n"
     ]
    }
   ],
   "source": [
    "# 블로그 참고한 코드 \n",
    "\n",
    "n = int(input())\n",
    "house = []\n",
    "\n",
    "for i in range(n):\n",
    "    house.append(list(map(int, input().split())))\n",
    "    \n",
    "for i in range(1, len(house)):\n",
    "    house[i][0] = min(house[i-1][1], house[i-1][2]) + house[i][0]\n",
    "    house[i][1] = min(house[i-1][0], house[i-1][2]) + house[i][1]\n",
    "    house[i][2] = min(house[i-1][0], house[i-1][1]) + house[i][2]\n",
    "    \n",
    "print(min(house[n-1][0], house[n-1][1], house[n-1][2]))"
   ]
  },
  {
   "cell_type": "markdown",
   "metadata": {},
   "source": [
    "# 2. 백준 11053"
   ]
  },
  {
   "cell_type": "code",
   "execution_count": 66,
   "metadata": {},
   "outputs": [
    {
     "name": "stdin",
     "output_type": "stream",
     "text": [
      " 6\n",
      " 10 20 10 30 20 50\n"
     ]
    },
    {
     "name": "stdout",
     "output_type": "stream",
     "text": [
      "4\n"
     ]
    }
   ],
   "source": [
    "n = int(input())\n",
    "a = list(map(int, input().split()))\n",
    "\n",
    "d = [1] * n\n",
    "for i in range(1, n):\n",
    "    dp = []\n",
    "    for j in range(i):\n",
    "        if a[j] < a[i]:\n",
    "            dp.append(d[j])\n",
    "        else:\n",
    "            dp.append(0)\n",
    "    d[i] += max(dp)\n",
    "             \n",
    "print(max(d))"
   ]
  },
  {
   "cell_type": "markdown",
   "metadata": {},
   "source": [
    "# 3. 백준 12865"
   ]
  },
  {
   "cell_type": "code",
   "execution_count": 88,
   "metadata": {},
   "outputs": [
    {
     "name": "stdin",
     "output_type": "stream",
     "text": [
      " 4 7\n",
      " 6 13\n",
      " 4 8\n",
      " 3 6\n",
      " 5 12\n"
     ]
    },
    {
     "name": "stdout",
     "output_type": "stream",
     "text": [
      "14\n"
     ]
    }
   ],
   "source": [
    "n, k = map(int, input().split())\n",
    "stuff = [[0, 0]]\n",
    "d = [[0] * (k + 1) for _ in range(n + 1)]\n",
    "\n",
    "for _ in range(n):\n",
    "    stuff.append(list(map(int, input().split())))\n",
    "\n",
    "for i in range(1, n + 1):\n",
    "    for j in range(1, k + 1):\n",
    "        weight = stuff[i][0]\n",
    "        value = stuff[i][1]\n",
    "        \n",
    "        if j < weight:\n",
    "            d[i][j] = d[i - 1][j]\n",
    "        else:\n",
    "            d[i][j] = max(value + d[i - 1][j - weight], d[i - 1][j])\n",
    "            \n",
    "print(d[n][-1])        "
   ]
  },
  {
   "cell_type": "markdown",
   "metadata": {},
   "source": [
    "# 4. 백준 2579"
   ]
  },
  {
   "cell_type": "code",
   "execution_count": 99,
   "metadata": {},
   "outputs": [
    {
     "name": "stdin",
     "output_type": "stream",
     "text": [
      " 6\n",
      " 10\n",
      " 20\n",
      " 15\n",
      " 25\n",
      " 10\n",
      " 20\n"
     ]
    },
    {
     "name": "stdout",
     "output_type": "stream",
     "text": [
      "75\n"
     ]
    }
   ],
   "source": [
    "n = int(input())\n",
    "stair = []\n",
    "d = []\n",
    "\n",
    "for _ in range(n):\n",
    "    stair.append(int(input()))\n",
    "    \n",
    "if n == 1:\n",
    "    d.append(stair[0])\n",
    "    \n",
    "elif n == 2:\n",
    "    d.append(stair[0])\n",
    "    d.append(stair[0] + stair[1]) \n",
    "    \n",
    "elif n == 3:\n",
    "    d.append(stair[0])\n",
    "    d.append(stair[0] + stair[1])\n",
    "    d.append(max(stair[0], stair[1]) + stair[2])\n",
    "    \n",
    "else:\n",
    "    d.append(stair[0])\n",
    "    d.append(stair[0] + stair[1])\n",
    "    d.append(max(stair[0], stair[1]) + stair[2])\n",
    "\n",
    "    for i in range(3, n):\n",
    "        d.append(max(d[i - 2] + stair[i], d[i - 3] + stair[i - 1] + stair[i]))\n",
    "    \n",
    "print(d[-1])"
   ]
  },
  {
   "cell_type": "code",
   "execution_count": null,
   "metadata": {},
   "outputs": [],
   "source": []
  }
 ],
 "metadata": {
  "kernelspec": {
   "display_name": "Python 3",
   "language": "python",
   "name": "python3"
  },
  "language_info": {
   "codemirror_mode": {
    "name": "ipython",
    "version": 3
   },
   "file_extension": ".py",
   "mimetype": "text/x-python",
   "name": "python",
   "nbconvert_exporter": "python",
   "pygments_lexer": "ipython3",
   "version": "3.8.5"
  }
 },
 "nbformat": 4,
 "nbformat_minor": 4
}
