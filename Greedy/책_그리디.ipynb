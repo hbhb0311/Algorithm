{
  "nbformat": 4,
  "nbformat_minor": 0,
  "metadata": {
    "colab": {
      "name": "책_그리디.ipynb",
      "provenance": [],
      "collapsed_sections": [],
      "authorship_tag": "ABX9TyMB2jSgr3Wysjyy8g2uNsJ3",
      "include_colab_link": true
    },
    "kernelspec": {
      "name": "python3",
      "display_name": "Python 3"
    },
    "language_info": {
      "name": "python"
    }
  },
  "cells": [
    {
      "cell_type": "markdown",
      "metadata": {
        "id": "view-in-github",
        "colab_type": "text"
      },
      "source": [
        "<a href=\"https://colab.research.google.com/github/hbhb0311/Algorithm/blob/main/%EA%B7%B8%EB%A6%AC%EB%94%94/%EC%B1%85_%EA%B7%B8%EB%A6%AC%EB%94%94.ipynb\" target=\"_parent\"><img src=\"https://colab.research.google.com/assets/colab-badge.svg\" alt=\"Open In Colab\"/></a>"
      ]
    },
    {
      "cell_type": "markdown",
      "metadata": {
        "id": "Kiim75w0M16E"
      },
      "source": [
        "# 1. 거스름돈"
      ]
    },
    {
      "cell_type": "code",
      "metadata": {
        "id": "zFfMc3BaE7kw",
        "colab": {
          "base_uri": "https://localhost:8080/"
        },
        "outputId": "a4a493e6-f147-4003-f0a2-9c4c71430090"
      },
      "source": [
        "n = 1260\n",
        "count = 0\n",
        "\n",
        "coin_types = [500, 100, 50, 10]\n",
        "\n",
        "for coin in coin_types:\n",
        "    count += n // coin\n",
        "    n %= coin\n",
        "\n",
        "print(count)"
      ],
      "execution_count": 1,
      "outputs": [
        {
          "output_type": "stream",
          "text": [
            "6\n"
          ],
          "name": "stdout"
        }
      ]
    },
    {
      "cell_type": "markdown",
      "metadata": {
        "id": "BbxggyIMOYK9"
      },
      "source": [
        "# 2. 큰 수의 법칙"
      ]
    },
    {
      "cell_type": "code",
      "metadata": {
        "colab": {
          "base_uri": "https://localhost:8080/"
        },
        "id": "GE8FuhOANJjh",
        "outputId": "e84dac8c-6d6c-4dfd-d9e0-02478aa3ee03"
      },
      "source": [
        "# 혼자 풀어본 문제\n",
        "\n",
        "n, m, k = map(int, input().split())\n",
        "lst = list(map(int, input().split()))\n",
        "lst.sort()\n",
        "\n",
        "result = 0\n",
        "\n",
        "for i in range(m):\n",
        "    if (i + 1) % k == 0:\n",
        "        result += lst[-2]\n",
        "    else:\n",
        "        result += lst[-1]\n",
        "\n",
        "print(result)"
      ],
      "execution_count": 9,
      "outputs": [
        {
          "output_type": "stream",
          "text": [
            "5 8 3\n",
            "2 4 5 4 6\n",
            "46\n"
          ],
          "name": "stdout"
        }
      ]
    },
    {
      "cell_type": "code",
      "metadata": {
        "colab": {
          "base_uri": "https://localhost:8080/"
        },
        "id": "O4Lp4DsNQfKv",
        "outputId": "7da51bed-ccbd-45ac-f4d0-e81def213810"
      },
      "source": [
        "# 단순하게 푸는 답안 예시\n",
        "\n",
        "n, m, k = map(int, input().split())\n",
        "data = list(map(int, input().split()))\n",
        "\n",
        "data.sort()\n",
        "first = data[n - 1]\n",
        "second = data[n - 2]\n",
        "\n",
        "result = 0\n",
        "\n",
        "while True:\n",
        "    for i in range(k):\n",
        "        if m == 0:\n",
        "            break\n",
        "        result += first\n",
        "        m -= 1\n",
        "    if m == 0:\n",
        "        break\n",
        "    result += second\n",
        "    m -= 1\n",
        "\n",
        "print(result)"
      ],
      "execution_count": 10,
      "outputs": [
        {
          "output_type": "stream",
          "text": [
            "5 8 3\n",
            "2 4 5 4 6\n",
            "46\n"
          ],
          "name": "stdout"
        }
      ]
    },
    {
      "cell_type": "code",
      "metadata": {
        "colab": {
          "base_uri": "https://localhost:8080/"
        },
        "id": "CI-a5jIqRc3h",
        "outputId": "a367c155-88d7-4234-d092-ad62756645ab"
      },
      "source": [
        "# 답안 예시\n",
        "\n",
        "n, m, k = map(int, input().split())\n",
        "data = list(map(int, input().split()))\n",
        "\n",
        "data.sort()\n",
        "first = data[n - 1]\n",
        "second = data[n - 2]\n",
        "\n",
        "# 가장 큰 수가 더해지는 횟수 계산\n",
        "count = int(m / (k + 1)) * k\n",
        "count += m % (k + 1)\n",
        "\n",
        "result = 0\n",
        "result += count * first\n",
        "result += (m - count) * second\n",
        "\n",
        "print(result)"
      ],
      "execution_count": 11,
      "outputs": [
        {
          "output_type": "stream",
          "text": [
            "5 8 3\n",
            "2 4 5 4 6\n",
            "46\n"
          ],
          "name": "stdout"
        }
      ]
    },
    {
      "cell_type": "markdown",
      "metadata": {
        "id": "k5unDEv2TOFW"
      },
      "source": [
        "# 3. 숫자 카드 게임"
      ]
    },
    {
      "cell_type": "code",
      "metadata": {
        "colab": {
          "base_uri": "https://localhost:8080/"
        },
        "id": "6l9y8w7iTID3",
        "outputId": "4f12487a-c9f1-4331-bc8f-af93b5082773"
      },
      "source": [
        "# 혼자 풀어본 문제\n",
        "\n",
        "n, m = map(int, input().split())\n",
        "graph = [list(map(int, input().split())) for _ in range(n)]\n",
        "lst = []\n",
        "\n",
        "for i in range(n):\n",
        "    lst.append(min(graph[i]))\n",
        "\n",
        "print(max(lst))"
      ],
      "execution_count": 13,
      "outputs": [
        {
          "output_type": "stream",
          "text": [
            "3 3\n",
            "3 1 2\n",
            "4 1 4\n",
            "2 2 2\n",
            "2\n"
          ],
          "name": "stdout"
        }
      ]
    },
    {
      "cell_type": "code",
      "metadata": {
        "colab": {
          "base_uri": "https://localhost:8080/"
        },
        "id": "XOM2y2vIUW1M",
        "outputId": "db15d970-1534-45a5-fce3-0d8954afc4ca"
      },
      "source": [
        "# min() 함수를 이용하는 답안 예시\n",
        "\n",
        "n, m = map(int, input().split())\n",
        "result = 0\n",
        "\n",
        "for i in range(n):\n",
        "    data = list(map(int, input().split()))\n",
        "    min_value = min(data)\n",
        "    result = max(result, min_value)\n",
        "\n",
        "print(result)"
      ],
      "execution_count": 14,
      "outputs": [
        {
          "output_type": "stream",
          "text": [
            "3 3\n",
            "3 1 2\n",
            "4 1 4\n",
            "2 2 2\n",
            "2\n"
          ],
          "name": "stdout"
        }
      ]
    },
    {
      "cell_type": "code",
      "metadata": {
        "colab": {
          "base_uri": "https://localhost:8080/"
        },
        "id": "doIJxX0_VCpy",
        "outputId": "f3455ac3-f3b5-4ec6-e7b0-755c1557d51a"
      },
      "source": [
        "# 이중 반복문 구조를 이용하는 답안 예시\n",
        "\n",
        "n, m = map(int, input().split())\n",
        "result = 0\n",
        "\n",
        "for i in range(n):\n",
        "    data = list(map(int, input().split()))\n",
        "    min_value = 10001\n",
        "\n",
        "    for a in data:\n",
        "        min_value = min(min_value, a)\n",
        "    result = max(result, min_value)\n",
        "print(result) "
      ],
      "execution_count": 15,
      "outputs": [
        {
          "output_type": "stream",
          "text": [
            "3 3\n",
            "3 1 2\n",
            "4 1 4\n",
            "2 2 2\n",
            "2\n"
          ],
          "name": "stdout"
        }
      ]
    },
    {
      "cell_type": "markdown",
      "metadata": {
        "id": "9r1YJmEVVijG"
      },
      "source": [
        "# 4. 1이 될 때까지"
      ]
    },
    {
      "cell_type": "code",
      "metadata": {
        "colab": {
          "base_uri": "https://localhost:8080/"
        },
        "id": "HLFZTs1OVbRf",
        "outputId": "676ba462-84ec-4544-b1ea-31d5bfda9319"
      },
      "source": [
        "# 혼자 풀어본 문제\n",
        "\n",
        "n, k = map(int, input().split())\n",
        "cnt = 0\n",
        "\n",
        "while True:\n",
        "    if n == 1:\n",
        "        break\n",
        "    \n",
        "    if n % k == 0:\n",
        "        n /= k\n",
        "        cnt += 1\n",
        "\n",
        "    else:\n",
        "        n -= 1\n",
        "        cnt += 1\n",
        "    \n",
        "print(cnt)"
      ],
      "execution_count": 18,
      "outputs": [
        {
          "output_type": "stream",
          "text": [
            "25 3\n",
            "6\n"
          ],
          "name": "stdout"
        }
      ]
    },
    {
      "cell_type": "code",
      "metadata": {
        "colab": {
          "base_uri": "https://localhost:8080/"
        },
        "id": "ZmDBZ8kQYTAU",
        "outputId": "5a9a680b-6f2f-4f19-a2ca-0122b94e23a4"
      },
      "source": [
        "# 단순하게 푸는 답안 예시\n",
        "\n",
        "n, k = map(int, input().split())\n",
        "result = 0\n",
        "\n",
        "while n >= k:\n",
        "    while n % k != 0:\n",
        "        n -= 1\n",
        "        result += 1\n",
        "    \n",
        "    n //= k\n",
        "    result += 1\n",
        "\n",
        "while n > 1:\n",
        "    n -= 1\n",
        "    result += 1\n",
        "\n",
        "print(result)"
      ],
      "execution_count": 19,
      "outputs": [
        {
          "output_type": "stream",
          "text": [
            "25 3\n",
            "6\n"
          ],
          "name": "stdout"
        }
      ]
    },
    {
      "cell_type": "code",
      "metadata": {
        "colab": {
          "base_uri": "https://localhost:8080/"
        },
        "id": "rqVXGGV-ZABa",
        "outputId": "6982bf50-e589-451c-9a81-7823145cc05e"
      },
      "source": [
        "# 답안 예시\n",
        "\n",
        "n, k = map(int, input().split())\n",
        "result = 0\n",
        "\n",
        "while True:\n",
        "    target = (n // k) * k\n",
        "    result += (n - target)\n",
        "    n = target\n",
        "\n",
        "    if n < k:\n",
        "        break\n",
        "    result += 1\n",
        "    n //= k\n",
        "\n",
        "result += (n - 1)\n",
        "print(result)"
      ],
      "execution_count": 20,
      "outputs": [
        {
          "output_type": "stream",
          "text": [
            "25 3\n",
            "6\n"
          ],
          "name": "stdout"
        }
      ]
    }
  ]
}