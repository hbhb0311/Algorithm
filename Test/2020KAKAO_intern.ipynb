{
 "cells": [
  {
   "cell_type": "markdown",
   "id": "9c86f283-1787-4da2-bd9e-442ec54a0170",
   "metadata": {},
   "source": [
    "# 2020 카카오 인턴십"
   ]
  },
  {
   "cell_type": "markdown",
   "id": "46b97aba-6991-4a77-9718-550132eff09b",
   "metadata": {},
   "source": [
    "# 1. 수식 최대화"
   ]
  },
  {
   "cell_type": "markdown",
   "id": "ba0cd733-5de1-49e2-a1c7-093a57a51c3b",
   "metadata": {},
   "source": [
    "런타임 에러 발생.."
   ]
  },
  {
   "cell_type": "code",
   "execution_count": 1,
   "id": "f19f2bae-ddd1-45d3-b8d8-8ccbac50ddb3",
   "metadata": {},
   "outputs": [],
   "source": [
    "from itertools import permutations\n",
    "\n",
    "def solution(exp):\n",
    "    op = []\n",
    "    num = []\n",
    "    idx = 0\n",
    "    \n",
    "    for i, val in enumerate(exp):\n",
    "        if val in ['*', '-', '+']:\n",
    "            op.append(val)\n",
    "            num.append(int(exp[idx : i]))\n",
    "            idx = i + 1\n",
    "            \n",
    "    num.append(int(exp[idx: ]))\n",
    "\n",
    "    \n",
    "    op_pri = []\n",
    "    for i in permutations(set(op), len(set(op))):\n",
    "        op_pri.append(i)\n",
    "        \n",
    "    idx = {}\n",
    "    for val in set(op):\n",
    "        idx[val] = list(filter(lambda x: op[x] == val, range(len(op))))\n",
    "    \n",
    "    answer = 0\n",
    "    for i in range(len(op_pri)):\n",
    "        op2 = op.copy()\n",
    "        num2 = num.copy()\n",
    "        for j in op_pri[i]:\n",
    "            if j == '-':\n",
    "                for k in list(filter(lambda x: op2[x] == '-', range(len(op2)))):\n",
    "                    try:\n",
    "                        num2[k] -= num2[k + 1]\n",
    "                        del num2[k + 1]\n",
    "                        del op2[k]\n",
    "                    except IndexError:\n",
    "                        num2[k - 1] -= num2[k]\n",
    "                    \n",
    "            elif j == '+':\n",
    "                for k in list(filter(lambda x: op2[x] == '+', range(len(op2)))):\n",
    "                    try:\n",
    "                        num2[k] += num2[k + 1]\n",
    "                        del num2[k + 1]\n",
    "                        del op2[k]\n",
    "                    except IndexError:\n",
    "                        num2[k - 1] += num2[k]\n",
    "                    \n",
    "            elif j == '*':\n",
    "                for k in list(filter(lambda x: op2[x] == '*', range(len(op2)))):\n",
    "                    try:\n",
    "                        num2[k] *= num2[k + 1]\n",
    "                        del num2[k + 1]\n",
    "                        del op2[k]\n",
    "                    except IndexError:\n",
    "                        num2[k - 1] *= num2[k]\n",
    "                    \n",
    "            answer = max(answer, abs(num2[0]))     \n",
    "\n",
    "    return answer"
   ]
  },
  {
   "cell_type": "code",
   "execution_count": 9,
   "id": "49fb16f2-f130-4e5d-8b1c-5ecb91c90241",
   "metadata": {},
   "outputs": [
    {
     "data": {
      "text/plain": [
       "60420"
      ]
     },
     "execution_count": 9,
     "metadata": {},
     "output_type": "execute_result"
    }
   ],
   "source": [
    "solution(\"100-200*300-500+20\")"
   ]
  },
  {
   "cell_type": "code",
   "execution_count": 10,
   "id": "ade3874d-fc01-4762-93f8-d83a344f69a9",
   "metadata": {},
   "outputs": [
    {
     "data": {
      "text/plain": [
       "300"
      ]
     },
     "execution_count": 10,
     "metadata": {},
     "output_type": "execute_result"
    }
   ],
   "source": [
    "solution(\"50*6-3*2\")"
   ]
  },
  {
   "cell_type": "markdown",
   "id": "7b303d79-7ebf-4e27-a986-21c0b4bd5aa9",
   "metadata": {},
   "source": [
    "## [블로그 참고](https://jokerldg.github.io/algorithm/2021/05/19/maximize-expression.html)"
   ]
  },
  {
   "cell_type": "code",
   "execution_count": 57,
   "id": "fa5bc80f-87f6-4864-a111-0beb5d2d8b48",
   "metadata": {},
   "outputs": [],
   "source": [
    "from itertools import permutations\n",
    "\n",
    "def calc(op, seq, exp):\n",
    "    if exp.isdigit():\n",
    "        return str(exp)\n",
    "    \n",
    "    else:\n",
    "        if op[seq] == '*':\n",
    "            splt = exp.split('*')\n",
    "            temp = []\n",
    "            for s in splt:\n",
    "                temp.append(calc(op, seq + 1, s))\n",
    "          \n",
    "            return str(eval('*'.join(temp)))\n",
    "        \n",
    "        if op[seq] == '+':\n",
    "            splt = exp.split('+')\n",
    "            temp = []\n",
    "            for s in splt:\n",
    "                temp.append(calc(op, seq + 1, s))\n",
    "                \n",
    "            return str(eval('+'.join(temp)))\n",
    "        \n",
    "        if op[seq] == '-':\n",
    "            splt = exp.split('-')\n",
    "            temp = []\n",
    "            for s in splt:\n",
    "                temp.append(calc(op, seq + 1, s))\n",
    "                \n",
    "            return str(eval('-'.join(temp)))\n",
    "\n",
    "\n",
    "def solution(exp):\n",
    "    op_pri = list(permutations(['*', '-', '+'], 3))\n",
    "    answer = 0\n",
    "    \n",
    "    for op in op_pri: \n",
    "        answer = max(answer, abs(int(calc(op, 0, exp))))\n",
    "        \n",
    "    return answer\n"
   ]
  },
  {
   "cell_type": "code",
   "execution_count": 59,
   "id": "804a2d2f-c300-449a-9f4b-d7a8226065b8",
   "metadata": {},
   "outputs": [
    {
     "data": {
      "text/plain": [
       "270420"
      ]
     },
     "execution_count": 59,
     "metadata": {},
     "output_type": "execute_result"
    }
   ],
   "source": [
    "solution(\"100-200+700*300-500+20\")"
   ]
  },
  {
   "cell_type": "code",
   "execution_count": 48,
   "id": "252b6ed6-b612-4327-8714-ec43b67c6dbc",
   "metadata": {},
   "outputs": [
    {
     "data": {
      "text/plain": [
       "60420"
      ]
     },
     "execution_count": 48,
     "metadata": {},
     "output_type": "execute_result"
    }
   ],
   "source": [
    "solution(\"100-200*300-500+20\")"
   ]
  },
  {
   "cell_type": "code",
   "execution_count": 50,
   "id": "7c0dcb97-d6af-4a26-b822-dfe5ae478e24",
   "metadata": {},
   "outputs": [
    {
     "data": {
      "text/plain": [
       "300"
      ]
     },
     "execution_count": 50,
     "metadata": {},
     "output_type": "execute_result"
    }
   ],
   "source": [
    "solution(\"50*6-3*2\")"
   ]
  }
 ],
 "metadata": {
  "kernelspec": {
   "display_name": "Python 3",
   "language": "python",
   "name": "python3"
  },
  "language_info": {
   "codemirror_mode": {
    "name": "ipython",
    "version": 3
   },
   "file_extension": ".py",
   "mimetype": "text/x-python",
   "name": "python",
   "nbconvert_exporter": "python",
   "pygments_lexer": "ipython3",
   "version": "3.8.5"
  }
 },
 "nbformat": 4,
 "nbformat_minor": 5
}
