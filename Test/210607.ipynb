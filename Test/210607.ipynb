{
 "cells": [
  {
   "cell_type": "markdown",
   "id": "c9dea8fb-8a63-43ce-b5ee-f5d7ebb5a633",
   "metadata": {},
   "source": [
    "# 1. 백준 1300 - K번째 수(이분탐색)"
   ]
  },
  {
   "cell_type": "code",
   "execution_count": 17,
   "id": "a96cb5d3-09c5-41d7-8e1a-c859e8344048",
   "metadata": {},
   "outputs": [
    {
     "name": "stdin",
     "output_type": "stream",
     "text": [
      " 4\n",
      " 10\n"
     ]
    },
    {
     "name": "stdout",
     "output_type": "stream",
     "text": [
      "6\n"
     ]
    }
   ],
   "source": [
    "N = int(input())\n",
    "k = int(input())\n",
    "start, end = 1, k\n",
    "ans = 0\n",
    "\n",
    "while start <= end:\n",
    "    mid = (start + end) // 2\n",
    "    \n",
    "    res = 0\n",
    "    for i in range(1, N + 1):\n",
    "        res += min(mid // i, N)\n",
    "        \n",
    "    if res >= k:\n",
    "        ans = mid\n",
    "        end = mid - 1\n",
    "        \n",
    "    else:\n",
    "        start = mid + 1\n",
    "        \n",
    "print(ans)"
   ]
  },
  {
   "cell_type": "markdown",
   "id": "40fd8e6d-2084-4a63-b411-849a396dddd2",
   "metadata": {},
   "source": [
    "# 2. 백준 16500 - 문자열 판별(DP)"
   ]
  },
  {
   "cell_type": "markdown",
   "id": "b781c47b-f434-46d0-8242-2123fd13f3c5",
   "metadata": {},
   "source": [
    "블로그 참고 : https://hazung.tistory.com/138"
   ]
  },
  {
   "cell_type": "code",
   "execution_count": 46,
   "id": "169c9fbc-39a7-4126-8d2e-f1d7fec92aba",
   "metadata": {},
   "outputs": [
    {
     "name": "stdin",
     "output_type": "stream",
     "text": [
      " softwarecontest\n",
      " 3\n",
      " ware\n",
      " soft\n",
      " contest\n"
     ]
    },
    {
     "name": "stdout",
     "output_type": "stream",
     "text": [
      "1\n"
     ]
    }
   ],
   "source": [
    "def dpfunc(idx):\n",
    "    global res\n",
    "    if idx == len(S):\n",
    "        res = 1\n",
    "        return\n",
    "    \n",
    "    if dp[idx]:\n",
    "        return\n",
    "    \n",
    "    dp[idx] = 1\n",
    "    for i in range(len(A)):\n",
    "        if len(S[idx:]) >= len(A[i]):\n",
    "            for j in range(len(A[i])):  \n",
    "                if A[i][j] != S[idx + j]:   # A[i]에서 알파벳 하나만 달라도 안됨\n",
    "                    break\n",
    "            else:\n",
    "                dpfunc(idx + len(A[i]))\n",
    "    \n",
    "    return\n",
    "    \n",
    "S = input()\n",
    "N = int(input())\n",
    "A = []\n",
    "\n",
    "for _ in range(N):\n",
    "    A.append(input())\n",
    "    \n",
    "dp = [0] * 101\n",
    "res = 0\n",
    "dpfunc(0)\n",
    "print(res)"
   ]
  },
  {
   "cell_type": "markdown",
   "id": "32dc6764-16d6-4dd6-a622-578030f083a4",
   "metadata": {},
   "source": [
    "# 3. 백준 15732 - 도토리 숨기기(이분탐색)"
   ]
  },
  {
   "cell_type": "code",
   "execution_count": 30,
   "id": "e09b34f5-9ea6-4711-be76-383ee9876f97",
   "metadata": {},
   "outputs": [
    {
     "name": "stdin",
     "output_type": "stream",
     "text": [
      " 200 2 5\n",
      " 100 150 10\n",
      " 110 150 15\n"
     ]
    },
    {
     "name": "stdout",
     "output_type": "stream",
     "text": [
      "125\n"
     ]
    }
   ],
   "source": [
    "# 메모리 초과\n",
    "\n",
    "N, K, D = map(int, input().split())\n",
    "d = []\n",
    "\n",
    "for _ in range(K):\n",
    "    A, B, C = map(int, input().split())\n",
    "    \n",
    "    for i in range(A, B + 1, C):\n",
    "        d.append(i)\n",
    "        \n",
    "d.sort()\n",
    "print(d[D - 1])"
   ]
  },
  {
   "cell_type": "code",
   "execution_count": 38,
   "id": "f27d3e7b-4074-496e-97aa-332e032f82ee",
   "metadata": {},
   "outputs": [
    {
     "name": "stdin",
     "output_type": "stream",
     "text": [
      " 200 2 5\n",
      " 100 150 10\n",
      " 110 150 15\n"
     ]
    },
    {
     "name": "stdout",
     "output_type": "stream",
     "text": [
      "125\n"
     ]
    }
   ],
   "source": [
    "N, K, D = map(int, input().split())\n",
    "lst = []\n",
    "\n",
    "for _ in range(K): \n",
    "    lst.append(list(map(int, input().split())))\n",
    "\n",
    "start, end = 1, N \n",
    "ans = 0\n",
    "\n",
    "while start <= end: \n",
    "    mid = (start + end) // 2\n",
    "\n",
    "    cnt = 0\n",
    "    for i in range(K):\n",
    "        midd = min(lst[i][1], mid)\n",
    "        if (midd - lst[i][0]) >= 0:\n",
    "            cnt += (midd - lst[i][0]) // lst[i][2] + 1\n",
    "\n",
    "    if cnt < D:\n",
    "        start = mid + 1\n",
    "\n",
    "    else:\n",
    "        ans = mid\n",
    "        end = mid - 1\n",
    "\n",
    "print(ans)"
   ]
  },
  {
   "cell_type": "markdown",
   "id": "1ac8e50c-c690-4438-9635-036e311927ec",
   "metadata": {},
   "source": [
    "# 4. 프로그래머스 - N으로 표현(DP)"
   ]
  },
  {
   "cell_type": "markdown",
   "id": "bd54ae55-401c-44cf-a669-894e73535b29",
   "metadata": {},
   "source": [
    "블로그 참고 : https://www.hamadevelop.me/algorithm-n-expression/"
   ]
  },
  {
   "cell_type": "markdown",
   "id": "01f800a4-782e-4c98-9a1b-af8004fd3d06",
   "metadata": {},
   "source": [
    "- 숫자 2개의 조합 = N이 1일때 경우의 수 (사칙연산) N이 1일때 경우의 수\n",
    "- 숫자 3개의 조합 = N이 1일때 경우의 수 (사칙연산) N이 2일때 경우의 수\n",
    "\n",
    "\n",
    "..."
   ]
  },
  {
   "cell_type": "code",
   "execution_count": 60,
   "id": "24f1f2ba-9d28-44f3-b07a-27a19dd11ca3",
   "metadata": {},
   "outputs": [],
   "source": [
    "def solution(N, number):\n",
    "    set_full = [0, [N]]\n",
    "    \n",
    "    if number == N:\n",
    "        return 1\n",
    "\n",
    "    for i in range(2, 9):\n",
    "        set_i = []\n",
    "        set_i.append(int(str(N) * i))\n",
    "        \n",
    "        for j in range(1, i // 2 + 1):\n",
    "            for x in set_full[j]:\n",
    "                for y in set_full[i - j]:\n",
    "                    set_i.append(x + y)\n",
    "                    set_i.append(x - y)\n",
    "                    set_i.append(y - x)\n",
    "                    set_i.append(x * y)\n",
    "                    \n",
    "                    if x != 0:\n",
    "                        set_i.append(y // x)\n",
    "                    if y != 0:\n",
    "                        set_i.append(x // y)\n",
    "                \n",
    "        if number in set_i:\n",
    "            return i\n",
    "        \n",
    "        set_full.append(set_i)\n",
    "        \n",
    "    return -1"
   ]
  },
  {
   "cell_type": "code",
   "execution_count": 58,
   "id": "ab3130fd-aed0-4d1a-955c-cd1ebbcb2a6e",
   "metadata": {},
   "outputs": [
    {
     "data": {
      "text/plain": [
       "4"
      ]
     },
     "execution_count": 58,
     "metadata": {},
     "output_type": "execute_result"
    }
   ],
   "source": [
    "solution(5, 12)"
   ]
  },
  {
   "cell_type": "code",
   "execution_count": 59,
   "id": "1b2d397f-afeb-4ec2-823f-9d8dbc99222c",
   "metadata": {},
   "outputs": [
    {
     "data": {
      "text/plain": [
       "3"
      ]
     },
     "execution_count": 59,
     "metadata": {},
     "output_type": "execute_result"
    }
   ],
   "source": [
    "solution(2, 11)"
   ]
  }
 ],
 "metadata": {
  "kernelspec": {
   "display_name": "Python 3",
   "language": "python",
   "name": "python3"
  },
  "language_info": {
   "codemirror_mode": {
    "name": "ipython",
    "version": 3
   },
   "file_extension": ".py",
   "mimetype": "text/x-python",
   "name": "python",
   "nbconvert_exporter": "python",
   "pygments_lexer": "ipython3",
   "version": "3.8.5"
  }
 },
 "nbformat": 4,
 "nbformat_minor": 5
}
