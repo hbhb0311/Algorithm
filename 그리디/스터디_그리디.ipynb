{
 "cells": [
  {
   "cell_type": "markdown",
   "metadata": {},
   "source": [
    "# 1. 백준 - 4796 캠핑"
   ]
  },
  {
   "cell_type": "code",
   "execution_count": 15,
   "metadata": {},
   "outputs": [
    {
     "name": "stdin",
     "output_type": "stream",
     "text": [
      " 5 8 20\n"
     ]
    },
    {
     "name": "stdout",
     "output_type": "stream",
     "text": [
      "Case 1: 14\n"
     ]
    },
    {
     "name": "stdin",
     "output_type": "stream",
     "text": [
      " 5 8 17\n"
     ]
    },
    {
     "name": "stdout",
     "output_type": "stream",
     "text": [
      "Case 2: 11\n"
     ]
    },
    {
     "name": "stdin",
     "output_type": "stream",
     "text": [
      " 0 0 0\n"
     ]
    }
   ],
   "source": [
    "i = 0\n",
    "\n",
    "while True:\n",
    "    cnt = 0\n",
    "    l, p, v = map(int, input().split())\n",
    "    \n",
    "    if l == p == v == 0:\n",
    "        break\n",
    "        \n",
    "    cnt += v // p\n",
    "    cnt *= l\n",
    "    i += 1\n",
    "    \n",
    "    if (v % p < l):\n",
    "        cnt += v % p\n",
    "    else:\n",
    "        cnt += l\n",
    "    \n",
    "    print(f'Case {i}: {cnt}')\n",
    "    "
   ]
  },
  {
   "cell_type": "markdown",
   "metadata": {},
   "source": [
    "# 2. 백준 - 1449 수리공 항승"
   ]
  },
  {
   "cell_type": "code",
   "execution_count": 21,
   "metadata": {
    "scrolled": true
   },
   "outputs": [
    {
     "name": "stdin",
     "output_type": "stream",
     "text": [
      " 4 2\n",
      " 1 2 100 101\n"
     ]
    },
    {
     "name": "stdout",
     "output_type": "stream",
     "text": [
      "2\n"
     ]
    }
   ],
   "source": [
    "n, l = map(int, input().split())\n",
    "loc = list(map(int, input().split()))\n",
    "loc.sort()\n",
    "\n",
    "cnt = 1\n",
    "length = 0\n",
    "\n",
    "for i in range(len(loc) - 1):\n",
    "    if (length + loc[i + 1] - loc[i] + 1) <= l:\n",
    "        length += loc[i + 1] - loc[i]\n",
    "    \n",
    "    else:\n",
    "        cnt += 1\n",
    "        length = 0\n",
    "        \n",
    "print(cnt)"
   ]
  },
  {
   "cell_type": "markdown",
   "metadata": {},
   "source": [
    "# 3. 백준 - 1931 회의실 배정"
   ]
  },
  {
   "cell_type": "code",
   "execution_count": 13,
   "metadata": {},
   "outputs": [
    {
     "name": "stdin",
     "output_type": "stream",
     "text": [
      " 11\n",
      " 1 4\n",
      " 3 5\n",
      " 0 6\n",
      " 5 7\n",
      " 3 8\n",
      " 5 9\n",
      " 6 10\n",
      " 8 11\n",
      " 8 12\n",
      " 2 13\n",
      " 12 14\n"
     ]
    },
    {
     "name": "stdout",
     "output_type": "stream",
     "text": [
      "4\n"
     ]
    }
   ],
   "source": [
    "n = int(input())\n",
    "time = []\n",
    "\n",
    "for _ in range(n):\n",
    "    time.append(list(map(int, input().split())))\n",
    "\n",
    "time.sort(key = lambda x: x[0])\n",
    "time.sort(key = lambda x: x[1])\n",
    "\n",
    "end = time[0][1]\n",
    "cnt = 1\n",
    "\n",
    "for i in range(1, n):\n",
    "    if time[i][0] >= end:\n",
    "        cnt += 1\n",
    "        end = time[i][1]\n",
    "        \n",
    "print(cnt)"
   ]
  },
  {
   "cell_type": "markdown",
   "metadata": {},
   "source": [
    "# 4. 프로그래머스 - 구명보트"
   ]
  },
  {
   "cell_type": "code",
   "execution_count": 18,
   "metadata": {},
   "outputs": [],
   "source": [
    "# 효율성 실패 ㅠㅠ.. \n",
    "# 리스트 자체에서 값을 제외하면 효율성 실패 발생한다고 함\n",
    "\n",
    "def solution(people, limit):\n",
    "    answer = 0\n",
    "    \n",
    "    people.sort(reverse = True)\n",
    "    for i, val in enumerate(people):\n",
    "        for j in range(i+1, len(people)):\n",
    "            if people[i] + people[j] <= limit:\n",
    "                del people[j]\n",
    "                break\n",
    "        \n",
    "        answer += 1\n",
    "\n",
    "    return answer"
   ]
  },
  {
   "cell_type": "code",
   "execution_count": 19,
   "metadata": {},
   "outputs": [
    {
     "data": {
      "text/plain": [
       "3"
      ]
     },
     "execution_count": 19,
     "metadata": {},
     "output_type": "execute_result"
    }
   ],
   "source": [
    "solution([70, 50, 80, 50], 100)"
   ]
  },
  {
   "cell_type": "code",
   "execution_count": 20,
   "metadata": {},
   "outputs": [
    {
     "data": {
      "text/plain": [
       "3"
      ]
     },
     "execution_count": 20,
     "metadata": {},
     "output_type": "execute_result"
    }
   ],
   "source": [
    "solution([70, 80, 50], 100)"
   ]
  },
  {
   "cell_type": "code",
   "execution_count": 21,
   "metadata": {},
   "outputs": [
    {
     "data": {
      "text/plain": [
       "3"
      ]
     },
     "execution_count": 21,
     "metadata": {},
     "output_type": "execute_result"
    }
   ],
   "source": [
    "solution([10, 50, 50, 90, 80], 100)"
   ]
  },
  {
   "cell_type": "code",
   "execution_count": 22,
   "metadata": {},
   "outputs": [],
   "source": [
    "# 블로그 참고한 코드\n",
    "\n",
    "def solution(people, limit):\n",
    "    \n",
    "    people.sort()\n",
    "    answer = 0\n",
    "    i, j = 0, len(people) - 1\n",
    "    \n",
    "    while True:\n",
    "        if i > j:\n",
    "            break\n",
    "        answer += 1\n",
    "        \n",
    "        if (people[i] + people[j]) <= limit:\n",
    "            i += 1\n",
    "        j -= 1\n",
    "\n",
    "    return answer"
   ]
  },
  {
   "cell_type": "code",
   "execution_count": 23,
   "metadata": {},
   "outputs": [
    {
     "data": {
      "text/plain": [
       "3"
      ]
     },
     "execution_count": 23,
     "metadata": {},
     "output_type": "execute_result"
    }
   ],
   "source": [
    "solution([10, 50, 50, 90, 80], 100)"
   ]
  },
  {
   "cell_type": "code",
   "execution_count": 24,
   "metadata": {},
   "outputs": [
    {
     "data": {
      "text/plain": [
       "3"
      ]
     },
     "execution_count": 24,
     "metadata": {},
     "output_type": "execute_result"
    }
   ],
   "source": [
    "solution([70, 80, 50], 100)"
   ]
  },
  {
   "cell_type": "code",
   "execution_count": 25,
   "metadata": {},
   "outputs": [
    {
     "data": {
      "text/plain": [
       "3"
      ]
     },
     "execution_count": 25,
     "metadata": {},
     "output_type": "execute_result"
    }
   ],
   "source": [
    "solution([70, 50, 80, 50], 100)"
   ]
  }
 ],
 "metadata": {
  "kernelspec": {
   "display_name": "Python 3",
   "language": "python",
   "name": "python3"
  },
  "language_info": {
   "codemirror_mode": {
    "name": "ipython",
    "version": 3
   },
   "file_extension": ".py",
   "mimetype": "text/x-python",
   "name": "python",
   "nbconvert_exporter": "python",
   "pygments_lexer": "ipython3",
   "version": "3.8.5"
  }
 },
 "nbformat": 4,
 "nbformat_minor": 4
}
