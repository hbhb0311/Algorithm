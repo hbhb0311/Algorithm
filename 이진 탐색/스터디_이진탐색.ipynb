{
  "nbformat": 4,
  "nbformat_minor": 0,
  "metadata": {
    "colab": {
      "name": "스터디_이진탐색.ipynb",
      "provenance": [],
      "collapsed_sections": [],
      "authorship_tag": "ABX9TyPoQMeH+tEHrn8iDa1ty+7Y",
      "include_colab_link": true
    },
    "kernelspec": {
      "name": "python3",
      "display_name": "Python 3"
    },
    "language_info": {
      "name": "python"
    }
  },
  "cells": [
    {
      "cell_type": "markdown",
      "metadata": {
        "id": "view-in-github",
        "colab_type": "text"
      },
      "source": [
        "<a href=\"https://colab.research.google.com/github/hbhb0311/Algorithm/blob/main/%EC%9D%B4%EC%A7%84%20%ED%83%90%EC%83%89/%EC%8A%A4%ED%84%B0%EB%94%94_%EC%9D%B4%EC%A7%84%ED%83%90%EC%83%89.ipynb\" target=\"_parent\"><img src=\"https://colab.research.google.com/assets/colab-badge.svg\" alt=\"Open In Colab\"/></a>"
      ]
    },
    {
      "cell_type": "markdown",
      "metadata": {
        "id": "qwsZ1yJ4aWZ4"
      },
      "source": [
        "# 1. 백준 2805 - 나무 자르기"
      ]
    },
    {
      "cell_type": "code",
      "metadata": {
        "colab": {
          "base_uri": "https://localhost:8080/"
        },
        "id": "Vx6wsMrFaSRE",
        "outputId": "96ce7cfa-1314-482f-9af5-a2766ed44c1a"
      },
      "source": [
        "n, m = map(int, input().split())\n",
        "trees = list(map(int, input().split()))\n",
        "\n",
        "start = 0\n",
        "end = max(trees)\n",
        "result = 0\n",
        "\n",
        "while start <= end:\n",
        "    total = 0\n",
        "    mid = (start + end) // 2\n",
        "\n",
        "    for i in trees:\n",
        "        if (i - mid) > 0:\n",
        "            total += (i - mid)\n",
        "\n",
        "    if total < m:\n",
        "        end = mid - 1\n",
        "\n",
        "    else:\n",
        "        start = mid + 1\n",
        "        result = mid\n",
        "       \n",
        "print(result)"
      ],
      "execution_count": null,
      "outputs": [
        {
          "output_type": "stream",
          "text": [
            "4 7\n",
            "20 15 10 17\n",
            "15\n"
          ],
          "name": "stdout"
        }
      ]
    },
    {
      "cell_type": "markdown",
      "metadata": {
        "id": "0Qy48AeheX_L"
      },
      "source": [
        "# 2. 백준 10816 - 숫자 카드 2 "
      ]
    },
    {
      "cell_type": "code",
      "metadata": {
        "colab": {
          "base_uri": "https://localhost:8080/"
        },
        "id": "7HyHuAr2hLnQ",
        "outputId": "1acafccc-8b96-48f2-8446-18248c796f47"
      },
      "source": [
        "# 시간초과 발생.. \n",
        "\n",
        "def binary(start, end, array, target):\n",
        "    cnt = 0\n",
        "\n",
        "    if start > end:\n",
        "        return 0\n",
        "\n",
        "    while start <= end:\n",
        "        mid = (start + end) // 2\n",
        "\n",
        "        if array[mid] == target:\n",
        "            cnt += 1\n",
        "            array[mid] = int(1e9)\n",
        "            array.sort()\n",
        "\n",
        "        elif array[mid] > target:\n",
        "            end = mid - 1\n",
        "\n",
        "        else:\n",
        "            start = mid + 1\n",
        "\n",
        "    return cnt\n",
        "\n",
        "n = int(input())\n",
        "card = list(map(int,input().split()))\n",
        "card.sort()\n",
        "m = int(input())\n",
        "sang = list(map(int, input().split()))\n",
        "\n",
        "for i in range(m):\n",
        "    print(binary(0, m - 1, card, sang[i]), end = ' ')"
      ],
      "execution_count": null,
      "outputs": [
        {
          "output_type": "stream",
          "text": [
            "10\n",
            "6 3 2 10 10 10 -10 -10 7 3\n",
            "8\n",
            "10 9 -5 2 3 4 5 -10\n",
            "3 0 0 1 2 0 0 2 "
          ],
          "name": "stdout"
        }
      ]
    },
    {
      "cell_type": "markdown",
      "metadata": {
        "id": "mAP9lHTRnYYq"
      },
      "source": [
        "# 3. 백준 1654 - 랜선 자르기"
      ]
    },
    {
      "cell_type": "code",
      "metadata": {
        "colab": {
          "base_uri": "https://localhost:8080/"
        },
        "id": "JHRgq8E0j0Mx",
        "outputId": "9f79cfdb-b849-40b0-9000-a8861e9327aa"
      },
      "source": [
        "k, n = map(int, input().split())\n",
        "lst = []\n",
        "\n",
        "for _ in range(k):\n",
        "    lst.append(int(input()))\n",
        "\n",
        "start = 1\n",
        "end = max(lst)\n",
        "result = 0\n",
        "\n",
        "while start <= end:\n",
        "    mid = (start + end) // 2\n",
        "    cnt = 0\n",
        "\n",
        "    for i in range(k):\n",
        "        cnt += lst[i] // mid\n",
        "    \n",
        "    if cnt < n:\n",
        "        end = mid - 1\n",
        "    else:\n",
        "        result = mid\n",
        "        start = mid + 1\n",
        "\n",
        "print(result)"
      ],
      "execution_count": 3,
      "outputs": [
        {
          "output_type": "stream",
          "text": [
            "4 11\n",
            "802\n",
            "743\n",
            "457\n",
            "539\n",
            "200\n"
          ],
          "name": "stdout"
        }
      ]
    },
    {
      "cell_type": "markdown",
      "metadata": {
        "id": "pTah7t7LOmaV"
      },
      "source": [
        "# 4. 프로그래머스 징검다리 건너기"
      ]
    },
    {
      "cell_type": "code",
      "metadata": {
        "id": "XcGgNTsiPJKq"
      },
      "source": [
        "def solution(stones, k):\n",
        "    start = 1\n",
        "    end = max(stones)\n",
        "    answer = int(1e9)\n",
        "\n",
        "    while start <= end:\n",
        "        flag = False\n",
        "        mid = (start + end) // 2\n",
        "        cnt = 0\n",
        "\n",
        "        for stone in stones:\n",
        "            if stone <= mid:\n",
        "                cnt += 1\n",
        "                if cnt == k:\n",
        "                    flag = True\n",
        "                    break\n",
        "            else:\n",
        "                cnt = 0\n",
        "\n",
        "        if flag:\n",
        "            end = mid - 1\n",
        "            answer = min(answer, mid)\n",
        "        else:\n",
        "            start = mid + 1\n",
        "            \n",
        "    return answer"
      ],
      "execution_count": 8,
      "outputs": []
    },
    {
      "cell_type": "code",
      "metadata": {
        "colab": {
          "base_uri": "https://localhost:8080/"
        },
        "id": "kpFws0gvRaXU",
        "outputId": "4ad2cedb-04c1-4ff1-d073-3645bb98bc86"
      },
      "source": [
        "solution([2, 4, 5, 3, 2, 1, 4, 2, 5, 1], 3)"
      ],
      "execution_count": 9,
      "outputs": [
        {
          "output_type": "execute_result",
          "data": {
            "text/plain": [
              "3"
            ]
          },
          "metadata": {
            "tags": []
          },
          "execution_count": 9
        }
      ]
    }
  ]
}