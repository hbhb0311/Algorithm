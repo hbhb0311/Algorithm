{
 "cells": [
  {
   "cell_type": "markdown",
   "metadata": {
    "colab_type": "text",
    "id": "view-in-github"
   },
   "source": [
    "<a href=\"https://colab.research.google.com/github/hbhb0311/Algorithm/blob/main/%EC%9D%B4%EC%A7%84%20%ED%83%90%EC%83%89/%EC%8A%A4%ED%84%B0%EB%94%94_%EC%9D%B4%EC%A7%84%ED%83%90%EC%83%89.ipynb\" target=\"_parent\"><img src=\"https://colab.research.google.com/assets/colab-badge.svg\" alt=\"Open In Colab\"/></a>"
   ]
  },
  {
   "cell_type": "markdown",
   "metadata": {
    "id": "qwsZ1yJ4aWZ4"
   },
   "source": [
    "# 1. 백준 2805 - 나무 자르기"
   ]
  },
  {
   "cell_type": "code",
   "execution_count": 2,
   "metadata": {
    "colab": {
     "base_uri": "https://localhost:8080/"
    },
    "id": "Vx6wsMrFaSRE",
    "outputId": "96ce7cfa-1314-482f-9af5-a2766ed44c1a"
   },
   "outputs": [
    {
     "name": "stdout",
     "output_type": "stream",
     "text": [
      "4 7\n",
      "20 15 10 17\n",
      "15\n"
     ]
    }
   ],
   "source": [
    "n, m = map(int, input().split())\n",
    "trees = list(map(int, input().split()))\n",
    "\n",
    "start = 0\n",
    "end = max(trees)\n",
    "result = 0\n",
    "\n",
    "while start <= end:\n",
    "    total = 0\n",
    "    mid = (start + end) // 2\n",
    "\n",
    "    for i in trees:\n",
    "        if (i - mid) > 0:\n",
    "            total += (i - mid)\n",
    "\n",
    "    if total < m:\n",
    "        end = mid - 1\n",
    "\n",
    "    else:\n",
    "        start = mid + 1\n",
    "        result = mid\n",
    "       \n",
    "print(result)"
   ]
  },
  {
   "cell_type": "markdown",
   "metadata": {
    "id": "0Qy48AeheX_L"
   },
   "source": [
    "# 2. 백준 10816 - 숫자 카드 2 "
   ]
  },
  {
   "cell_type": "code",
   "execution_count": 9,
   "metadata": {
    "colab": {
     "base_uri": "https://localhost:8080/"
    },
    "id": "7HyHuAr2hLnQ",
    "outputId": "1acafccc-8b96-48f2-8446-18248c796f47"
   },
   "outputs": [
    {
     "name": "stdout",
     "output_type": "stream",
     "text": [
      "10\n",
      "6 3 2 10 10 10 -10 -10 7 3\n",
      "8\n",
      "10 9 -5 2 3 4 5 -10\n",
      "3 0 0 1 2 0 0 2 "
     ]
    }
   ],
   "source": [
    "# 시간초과 발생.. \n",
    "\n",
    "def binary(start, end, array, target):\n",
    "    cnt = 0\n",
    "\n",
    "    if start > end:\n",
    "        return 0\n",
    "\n",
    "    while start <= end:\n",
    "        mid = (start + end) // 2\n",
    "\n",
    "        if array[mid] == target:\n",
    "            cnt += 1\n",
    "            array[mid] = int(1e9)\n",
    "            array.sort()\n",
    "\n",
    "        elif array[mid] > target:\n",
    "            end = mid - 1\n",
    "\n",
    "        else:\n",
    "            start = mid + 1\n",
    "\n",
    "    return cnt\n",
    "\n",
    "n = int(input())\n",
    "card = list(map(int,input().split()))\n",
    "card.sort()\n",
    "m = int(input())\n",
    "sang = list(map(int, input().split()))\n",
    "\n",
    "for i in range(m):\n",
    "    print(binary(0, m - 1, card, sang[i]), end = ' ')"
   ]
  },
  {
   "cell_type": "markdown",
   "metadata": {
    "id": "mAP9lHTRnYYq"
   },
   "source": [
    "# 3. 백준 1654 - 랜선 자르기"
   ]
  },
  {
   "cell_type": "code",
   "execution_count": 5,
   "metadata": {},
   "outputs": [
    {
     "data": {
      "text/plain": [
       "153.28571428571428"
      ]
     },
     "execution_count": 5,
     "metadata": {},
     "output_type": "execute_result"
    }
   ],
   "source": [
    "a = [5, 4, 8 , 256, 54, 54, 692]\n",
    "sum(a) / len(a)"
   ]
  },
  {
   "cell_type": "code",
   "execution_count": 4,
   "metadata": {
    "id": "9ykX_N6bmQeA"
   },
   "outputs": [
    {
     "name": "stdin",
     "output_type": "stream",
     "text": [
      " 4 11\n",
      " 802\n",
      " 743\n",
      " 457\n",
      " 539\n"
     ]
    },
    {
     "name": "stdout",
     "output_type": "stream",
     "text": [
      "231.0\n"
     ]
    }
   ],
   "source": [
    "k, n = map(int, input().split())\n",
    "line = []\n",
    "for _ in range(k):\n",
    "    line.append(int(input()))\n",
    "\n",
    "target = sum(line) / n\n",
    "cnt = 0\n",
    "start = 0\n",
    "end = sum(line)\n",
    "sum_val = sum(line)\n",
    "cnt_base = 12\n",
    "\n",
    "while start <= end:\n",
    "    mid = (start + end) // 2\n",
    "    \n",
    "    \n",
    "    if cnt < n:\n",
    "        start = mid + 1\n",
    "    elif cnt >= n and cnt < cnt_base:\n",
    "        end = mid - 1\n",
    "        cnt_base = cnt\n",
    "        \n"
   ]
  },
  {
   "cell_type": "code",
   "execution_count": null,
   "metadata": {},
   "outputs": [],
   "source": []
  }
 ],
 "metadata": {
  "colab": {
   "authorship_tag": "ABX9TyPr8IPl6pKUtVzJZCDAmHNx",
   "collapsed_sections": [],
   "include_colab_link": true,
   "name": "스터디_이진탐색.ipynb",
   "provenance": []
  },
  "kernelspec": {
   "display_name": "Python 3",
   "language": "python",
   "name": "python3"
  },
  "language_info": {
   "codemirror_mode": {
    "name": "ipython",
    "version": 3
   },
   "file_extension": ".py",
   "mimetype": "text/x-python",
   "name": "python",
   "nbconvert_exporter": "python",
   "pygments_lexer": "ipython3",
   "version": "3.8.5"
  }
 },
 "nbformat": 4,
 "nbformat_minor": 4
}
