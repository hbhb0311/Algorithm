{
 "cells": [
  {
   "cell_type": "markdown",
   "metadata": {},
   "source": [
    "# 1. 11403 - 경로 찾기"
   ]
  },
  {
   "cell_type": "code",
   "execution_count": 5,
   "metadata": {},
   "outputs": [
    {
     "name": "stdin",
     "output_type": "stream",
     "text": [
      " 7\n",
      " 0 0 0 1 0 0 0\n",
      " 0 0 0 0 0 0 1\n",
      " 0 0 0 0 0 0 0\n",
      " 0 0 0 0 1 1 0\n",
      " 1 0 0 0 0 0 0\n",
      " 0 0 0 0 0 0 1\n",
      " 0 0 1 0 0 0 0\n"
     ]
    },
    {
     "name": "stdout",
     "output_type": "stream",
     "text": [
      "1 0 1 1 1 1 1 \n",
      "0 0 1 0 0 0 1 \n",
      "0 0 0 0 0 0 0 \n",
      "1 0 1 1 1 1 1 \n",
      "1 0 1 1 1 1 1 \n",
      "0 0 1 0 0 0 1 \n",
      "0 0 1 0 0 0 0 \n"
     ]
    }
   ],
   "source": [
    "INF = int(1e9)\n",
    "n = int(input())\n",
    "graph = []\n",
    "time = [[INF] * n for _ in range(n)]\n",
    "\n",
    "for _ in range(n):\n",
    "    graph.append(list(map(int, input().split())))\n",
    "                \n",
    "for i in range(n):\n",
    "    for j in range(n):\n",
    "        if graph[i][j] == 1:\n",
    "            time[i][j] = 1\n",
    "            \n",
    "for i in range(n):\n",
    "    for a in range(n):\n",
    "        for b in range(n):\n",
    "            time[a][b] = min(time[a][b], time[a][i] + time[i][b])\n",
    "\n",
    "for i in range(n):\n",
    "    for j in range(n):\n",
    "        if time[i][j] == INF:\n",
    "            time[i][j] = 0\n",
    "        else:\n",
    "            time[i][j] = 1\n",
    "            \n",
    "for i in range(n):\n",
    "    for j in range(n):\n",
    "        print(time[i][j], end = ' ')\n",
    "    print()"
   ]
  },
  {
   "cell_type": "markdown",
   "metadata": {},
   "source": [
    "# 2. 11404 - 플로이드"
   ]
  },
  {
   "cell_type": "code",
   "execution_count": 22,
   "metadata": {},
   "outputs": [
    {
     "name": "stdin",
     "output_type": "stream",
     "text": [
      " 5\n",
      " 14\n",
      " 1 2 2\n",
      " 1 3 3\n",
      " 1 4 1\n",
      " 1 5 10\n",
      " 2 4 2\n",
      " 3 4 1\n",
      " 3 5 1\n",
      " 4 5 3\n",
      " 3 5 10\n",
      " 3 1 8\n",
      " 1 4 2\n",
      " 5 1 7\n",
      " 3 4 2\n",
      " 5 2 4\n"
     ]
    },
    {
     "name": "stdout",
     "output_type": "stream",
     "text": [
      "0 2 3 1 4 \n",
      "12 0 15 2 5 \n",
      "8 5 0 1 1 \n",
      "10 7 13 0 3 \n",
      "7 4 10 6 0 \n"
     ]
    }
   ],
   "source": [
    "INF = int(1e9)\n",
    "n = int(input())\n",
    "m = int(input())\n",
    "\n",
    "graph = [[INF] * (n + 1) for _ in range(n + 1)]\n",
    "for _ in range(m):\n",
    "    a, b, c = map(int, input().split())\n",
    "    \n",
    "    if graph[a][b] > c:\n",
    "        graph[a][b] = c\n",
    "    \n",
    "for i in range(1, n + 1):\n",
    "    for j in range(1, n + 1):\n",
    "        if i == j:\n",
    "            graph[i][j] = 0\n",
    "            \n",
    "for i in range(1, n + 1):\n",
    "    for a in range(1, n + 1):\n",
    "        for b in range(1, n + 1):\n",
    "            graph[a][b] = min(graph[a][i] + graph[i][b], graph[a][b])\n",
    "            \n",
    "for i in range(1, n + 1):\n",
    "    for j in range(1, n + 1):\n",
    "        if graph[i][j] >= INF:\n",
    "            graph[i][j] = 0\n",
    "            \n",
    "for i in range(1, n + 1):\n",
    "    for j in range(1, n + 1):\n",
    "        print(graph[i][j], end = ' ')\n",
    "    print()"
   ]
  },
  {
   "cell_type": "markdown",
   "metadata": {},
   "source": [
    "# 3. 1613 - 역사"
   ]
  },
  {
   "cell_type": "code",
   "execution_count": 26,
   "metadata": {},
   "outputs": [
    {
     "name": "stdin",
     "output_type": "stream",
     "text": [
      " 5 5\n",
      " 1 2 \n",
      " 1 3\n",
      " 2 3\n",
      " 3 4\n",
      " 2 4\n",
      " 3\n",
      " 1 5\n"
     ]
    },
    {
     "name": "stdout",
     "output_type": "stream",
     "text": [
      "0\n"
     ]
    },
    {
     "name": "stdin",
     "output_type": "stream",
     "text": [
      " 2 4\n"
     ]
    },
    {
     "name": "stdout",
     "output_type": "stream",
     "text": [
      "-1\n"
     ]
    },
    {
     "name": "stdin",
     "output_type": "stream",
     "text": [
      " 3 1\n"
     ]
    },
    {
     "name": "stdout",
     "output_type": "stream",
     "text": [
      "1\n"
     ]
    }
   ],
   "source": [
    "# 블로그 참고해서 업그레이드\n",
    "\n",
    "n, k = map(int, input().split())\n",
    "graph = [[0] * (n + 1) for _ in range(n + 1)]\n",
    "\n",
    "for _ in range(k):\n",
    "    a, b = map(int, input().split())\n",
    "    graph[a][b] = 1\n",
    "    \n",
    "for i in range(1, n + 1):\n",
    "    for a in range(1, n + 1):\n",
    "        for b in range(1, n + 1):\n",
    "            if graph[a][i] and graph[i][b]:\n",
    "                graph[a][b] = 1\n",
    "                \n",
    "s = int(input())\n",
    "for _ in range(s):\n",
    "    a, b = map(int, input().split())\n",
    "    \n",
    "    if graph[a][b] == 1:\n",
    "        print(-1)\n",
    "    elif graph[b][a] == 1:\n",
    "        print(1)\n",
    "    else:\n",
    "        print(0)"
   ]
  },
  {
   "cell_type": "markdown",
   "metadata": {},
   "source": [
    "# 4. 합승 택시 요금"
   ]
  },
  {
   "cell_type": "code",
   "execution_count": 46,
   "metadata": {},
   "outputs": [],
   "source": [
    "def solution(n, s, a, b, fares):\n",
    "    INF = int(1e9)\n",
    "    graph = [[INF] * (n + 1) for _ in range(n + 1)]\n",
    "    \n",
    "    for i in range(len(fares)):\n",
    "        graph[fares[i][0]][fares[i][1]] = graph[fares[i][1]][fares[i][0]] = fares[i][2]\n",
    "        \n",
    "    for i in range(1, n + 1):\n",
    "        graph[i][i] = 0\n",
    "                \n",
    "    for i in range(1, n + 1):\n",
    "        for j in range(1, n + 1):\n",
    "            for k in range(1, n + 1):\n",
    "                graph[j][k] = min(graph[j][k], graph[j][i] + graph[i][k])\n",
    "   \n",
    "    answer = INF\n",
    "    for i in range(1, n + 1):\n",
    "        via = graph[s][i] + graph[i][b] + graph[i][a]\n",
    "        answer = min(answer, via)\n",
    "                \n",
    "    return answer"
   ]
  },
  {
   "cell_type": "code",
   "execution_count": 47,
   "metadata": {},
   "outputs": [
    {
     "data": {
      "text/plain": [
       "82"
      ]
     },
     "execution_count": 47,
     "metadata": {},
     "output_type": "execute_result"
    }
   ],
   "source": [
    "solution(6, 4, 6, 2, [[4, 1, 10], [3, 5, 24], [5, 6, 2], [3, 1, 41], [5, 1, 24], [4, 6, 50], [2, 4, 66], [2, 3, 22], [1, 6, 25]])"
   ]
  },
  {
   "cell_type": "code",
   "execution_count": 48,
   "metadata": {},
   "outputs": [
    {
     "data": {
      "text/plain": [
       "14"
      ]
     },
     "execution_count": 48,
     "metadata": {},
     "output_type": "execute_result"
    }
   ],
   "source": [
    "solution(7, 3, 4, 1, [[5, 7, 9], [4, 6, 4], [3, 6, 1], [3, 2, 3], [2, 1, 6]])"
   ]
  },
  {
   "cell_type": "code",
   "execution_count": 49,
   "metadata": {},
   "outputs": [
    {
     "data": {
      "text/plain": [
       "18"
      ]
     },
     "execution_count": 49,
     "metadata": {},
     "output_type": "execute_result"
    }
   ],
   "source": [
    "solution(6, 4, 5, 6, [[2,6,6], [6,3,7], [4,6,7], [6,5,11], [2,5,12], [5,3,20], [2,4,8], [4,3,9]])"
   ]
  }
 ],
 "metadata": {
  "kernelspec": {
   "display_name": "Python 3",
   "language": "python",
   "name": "python3"
  },
  "language_info": {
   "codemirror_mode": {
    "name": "ipython",
    "version": 3
   },
   "file_extension": ".py",
   "mimetype": "text/x-python",
   "name": "python",
   "nbconvert_exporter": "python",
   "pygments_lexer": "ipython3",
   "version": "3.8.5"
  },
  "toc-autonumbering": false,
  "toc-showmarkdowntxt": true
 },
 "nbformat": 4,
 "nbformat_minor": 4
}
