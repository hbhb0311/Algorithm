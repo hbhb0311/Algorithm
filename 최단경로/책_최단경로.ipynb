{
 "cells": [
  {
   "cell_type": "markdown",
   "metadata": {},
   "source": [
    "# 1. 다익스트라 알고리즘"
   ]
  },
  {
   "cell_type": "markdown",
   "metadata": {},
   "source": [
    "## 1.1 간단한 다익스트라 알고리즘"
   ]
  },
  {
   "cell_type": "code",
   "execution_count": 1,
   "metadata": {},
   "outputs": [
    {
     "name": "stdin",
     "output_type": "stream",
     "text": [
      " 6 11\n",
      " 1\n",
      " 1 2 2\n",
      " 1 3 5\n",
      " 1 4 1\n",
      " 2 3 3\n",
      " 2 4 2\n",
      " 3 2 3\n",
      " 3 6 5\n",
      " 4 3 3\n",
      " 4 5 1\n",
      " 5 3 1\n",
      " 5 6 2\n"
     ]
    },
    {
     "name": "stdout",
     "output_type": "stream",
     "text": [
      "0\n",
      "2\n",
      "3\n",
      "1\n",
      "2\n",
      "4\n"
     ]
    }
   ],
   "source": [
    "INF = int(1e9)\n",
    "\n",
    "# 노드, 간선의 개수 입력 받기\n",
    "n, m = map(int, input().split())\n",
    "\n",
    "# 시작 노드 번호 입력 받음\n",
    "start = int(input())\n",
    "\n",
    "# 각 노드에 연결되어 있는 노드에 대한 정보를 담는 리스트 만들기\n",
    "graph = [[] for i in range(n + 1)]\n",
    "\n",
    "# 방문한 적 있는지 체크하는 목적의 리스트\n",
    "visited = [False] * (n + 1)\n",
    "\n",
    "# 최단 거리 테이블 모두 무한으로 초기화\n",
    "distance = [INF] * (n + 1)\n",
    "\n",
    "# 모든 간선 정보 입력 받기\n",
    "for _ in range(m):\n",
    "    a, b, c = map(int, input().split())\n",
    "    # a 번에서 b 번으로 가는 비용이 c \n",
    "    graph[a].append((b, c))\n",
    "    \n",
    "\n",
    "# 방문하지 않은 노드 중, 가장 최단 거리가 짧은 노드의 번호를 반환\n",
    "def get_smallest_node():\n",
    "    min_value = INF\n",
    "    index = 0 # 가장 최단 거리가 짧은 노드(인덱스)\n",
    "    for i in range(1, n + 1):\n",
    "        if distance[i] < min_value and not visited[i]:\n",
    "            min_value = distance[i]\n",
    "            index = i\n",
    "    return index\n",
    "\n",
    "def dijkstra(start):\n",
    "    # 시작 노드에 대해 초기화\n",
    "    distance[start] = 0\n",
    "    visited[start] = True\n",
    "    for j in graph[start]:\n",
    "        distance[j[0]] = j[1]\n",
    "    \n",
    "    # 시작 노드를 제외한 전체 n - 1개의 노드에 대해 반복\n",
    "    for _ in range(n - 1):\n",
    "        # 현재 최단 거리가 가장 짧은 노드를 꺼내 방문 처리\n",
    "        now = get_smallest_node()\n",
    "        visited[now] = True\n",
    "        \n",
    "        # 현재 노드와 연결된 다른 노드 확인\n",
    "        for j in graph[now]:\n",
    "            cost = distance[now] + j[1]\n",
    "            \n",
    "            # 현재 노드를 거쳐 다른 노드로 이동하는 거리가 더 짧은 경우\n",
    "            if cost < distance[j[0]]:\n",
    "                distance[j[0]] = cost\n",
    "                \n",
    "dijkstra(start)\n",
    "\n",
    "for i in range(1, n + 1):\n",
    "    if distance[i] == INF:\n",
    "        print('INFINITY')\n",
    "    else:\n",
    "        print(distance[i])\n"
   ]
  },
  {
   "cell_type": "markdown",
   "metadata": {},
   "source": [
    "## 1.2 개선된 다익스트라 알고리즘"
   ]
  },
  {
   "cell_type": "code",
   "execution_count": 1,
   "metadata": {},
   "outputs": [
    {
     "name": "stdin",
     "output_type": "stream",
     "text": [
      " 6 11\n",
      " 1\n",
      " 1 2 2\n",
      " 1 3 5\n",
      " 1 4 1\n",
      " 2 3 3\n",
      " 2 4 2\n",
      " 3 2 3\n",
      " 3 6 5\n",
      " 4 3 3\n",
      " 4 5 1\n",
      " 5 3 1\n",
      " 5 6 2\n"
     ]
    },
    {
     "name": "stdout",
     "output_type": "stream",
     "text": [
      "0\n",
      "2\n",
      "3\n",
      "1\n",
      "2\n",
      "4\n"
     ]
    }
   ],
   "source": [
    "import heapq\n",
    "\n",
    "INF = int(1e9)\n",
    "\n",
    "# 노드, 간선의 개수 입력 받기\n",
    "n, m = map(int, input().split())\n",
    "\n",
    "# 시작 노드 번호 입력 받음\n",
    "start = int(input())\n",
    "\n",
    "# 각 노드에 연결되어 있는 노드에 대한 정보를 담는 리스트 만들기\n",
    "graph = [[] for i in range(n + 1)]\n",
    "\n",
    "# 방문한 적 있는지 체크하는 목적의 리스트\n",
    "visited = [False] * (n + 1)\n",
    "\n",
    "# 최단 거리 테이블 모두 무한으로 초기화\n",
    "distance = [INF] * (n + 1)\n",
    "\n",
    "# 모든 간선 정보 입력 받기\n",
    "for _ in range(m):\n",
    "    a, b, c = map(int, input().split())\n",
    "    # a 번에서 b 번으로 가는 비용이 c \n",
    "    graph[a].append((b, c))\n",
    "    \n",
    "def dijkstra(start):\n",
    "    q = []\n",
    "    # 시작 노드로 가기 위한 최단 경로는 0으로 설정, 큐에 삽입\n",
    "    heapq.heappush(q, (0, start))\n",
    "    distance[start] = 0\n",
    "    \n",
    "    while q:\n",
    "        dist, now = heapq.heappop(q)\n",
    "        \n",
    "        # 현재 노드가 이미 처리된 적이 있는 노드면 무시\n",
    "        if distance[now] < dist:\n",
    "            continue\n",
    "        \n",
    "        # 현재 노드와 인접한 다른 노드 확인\n",
    "        for i in graph[now]:\n",
    "            cost = dist + i[1]\n",
    "            \n",
    "            if cost < distance[i[0]]:\n",
    "                distance[i[0]] = cost\n",
    "                heapq.heappush(q, (cost, i[0]))\n",
    "        \n",
    "dijkstra(start)\n",
    "\n",
    "for i in range(1, n + 1):\n",
    "    if distance[i] == INF:\n",
    "        print('INFINITY')\n",
    "    else:\n",
    "        print(distance[i])"
   ]
  },
  {
   "cell_type": "markdown",
   "metadata": {},
   "source": [
    "# 2. 플로이드 워셜 알고리즘"
   ]
  },
  {
   "cell_type": "code",
   "execution_count": 2,
   "metadata": {},
   "outputs": [
    {
     "name": "stdin",
     "output_type": "stream",
     "text": [
      " 4\n",
      " 7\n",
      " 1 2 4\n",
      " 1 4 6\n",
      " 2 1 3\n",
      " 2 3 7\n",
      " 3 1 5\n",
      " 3 4 4\n",
      " 4 3 2\n"
     ]
    },
    {
     "name": "stdout",
     "output_type": "stream",
     "text": [
      "0 4 8 6 \n",
      "3 0 7 9 \n",
      "5 9 0 4 \n",
      "7 11 2 0 \n"
     ]
    }
   ],
   "source": [
    "INF = int(1e9)\n",
    "\n",
    "n = int(input())\n",
    "m = int(input())\n",
    "\n",
    "graph = [[INF] * (n + 1) for _ in range(n + 1)]\n",
    "\n",
    "# 자기 자신에서 자기 자신으로 가는 비용은 0으로 초기화\n",
    "for a in range(1, n + 1):\n",
    "    for b in range(1, n + 1):\n",
    "        if a == b:\n",
    "            graph[a][b] = 0\n",
    "            \n",
    "# 각 간선에 대한 정보를 입력 받아, 그 값으로 초기화\n",
    "for _ in range(m):\n",
    "    a, b, c = map(int, input().split())\n",
    "    graph[a][b] = c\n",
    "    \n",
    "# 점화식에 따라 플로이드 워셜 알고리즘 수행\n",
    "for i in range(1, n + 1):\n",
    "    for a in range(1, n + 1):\n",
    "        for b in range(1, n + 1):\n",
    "            graph[a][b] = min(graph[a][b], graph[a][i] + graph[i][b])\n",
    "            \n",
    "            \n",
    "# 수행된 결과 출력\n",
    "for a in range(1, n + 1):\n",
    "    for b in range(1, n + 1):\n",
    "        if graph[a][b] == INF:\n",
    "            print('INFINITY', end = ' ')\n",
    "        else:\n",
    "            print(graph[a][b], end = ' ')\n",
    "    print()\n",
    "        "
   ]
  },
  {
   "cell_type": "markdown",
   "metadata": {},
   "source": [
    "# 실전문제"
   ]
  },
  {
   "cell_type": "code",
   "execution_count": 6,
   "metadata": {},
   "outputs": [
    {
     "name": "stdin",
     "output_type": "stream",
     "text": [
      " 4 2\n",
      " 1 3\n",
      " 2 4\n",
      " 3 4\n"
     ]
    },
    {
     "name": "stdout",
     "output_type": "stream",
     "text": [
      "-1\n"
     ]
    }
   ],
   "source": [
    "# 미래 도시\n",
    "INF = int(1e9)\n",
    "n, m = map(int, input().split())\n",
    "graph = [[INF] * (n + 1) for _ in range(n + 1)]\n",
    "\n",
    "for _ in range(m):\n",
    "    a, b = map(int, input().split())\n",
    "    graph[a][b] = graph[b][a] = 1\n",
    "    \n",
    "x, k = map(int, input().split())\n",
    "    \n",
    "for a in range(1, n + 1):\n",
    "    for b in range(1, n + 1):\n",
    "        if a == b:\n",
    "            graph[a][b] = graph[a][b] = 0\n",
    "            \n",
    "for i in range(1, n + 1):\n",
    "    for a in range(1, n + 1):\n",
    "        for b in range(1, n + 1):\n",
    "            graph[a][b] = min(graph[a][b], graph[a][i] + graph[i][b])\n",
    "            \n",
    "answer = graph[1][k] + graph[k][x]\n",
    "\n",
    "if answer >= INF:\n",
    "    print(-1)\n",
    "else:\n",
    "    print(answer)"
   ]
  }
 ],
 "metadata": {
  "kernelspec": {
   "display_name": "Python 3",
   "language": "python",
   "name": "python3"
  },
  "language_info": {
   "codemirror_mode": {
    "name": "ipython",
    "version": 3
   },
   "file_extension": ".py",
   "mimetype": "text/x-python",
   "name": "python",
   "nbconvert_exporter": "python",
   "pygments_lexer": "ipython3",
   "version": "3.8.5"
  }
 },
 "nbformat": 4,
 "nbformat_minor": 4
}
